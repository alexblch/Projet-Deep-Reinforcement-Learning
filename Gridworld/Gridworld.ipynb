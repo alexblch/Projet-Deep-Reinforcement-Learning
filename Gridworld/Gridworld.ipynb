{
 "cells": [
  {
   "cell_type": "markdown",
   "metadata": {},
   "source": [
    "# **GridWorld** est une grille de 5x5 cases (5 lignes de 5 colonnes) sur laquelle un agent peut se déplacer. L'agent commence généralement dans la première case de la grille (première ligne, première colonne). Il a quatre actions possibles à sa disposition :\n",
    "- **Gauche** : se déplacer vers la gauche.\n",
    "- **Droite** : se déplacer vers la droite.\n",
    "- **Haut** : se déplacer vers le haut.\n",
    "- **Bas** : se déplacer vers le bas.\n",
    "\n",
    "**Conditions terminales et récompenses :**\n",
    "- Atteindre la dernière case de la première ligne (position [0, 4]) est un état terminal et donne une récompense de -3.\n",
    "- Atteindre la dernière case de la dernière ligne (position [4, 4]) est également un état terminal, mais avec une récompense de 1.\n",
    "- Essayer de se déplacer en dehors des bords de la grille entraîne un état terminal avec une récompense de -1."
   ]
  },
  {
   "cell_type": "code",
   "execution_count": 21,
   "metadata": {},
   "outputs": [],
   "source": [
    "import numpy as np\n",
    "from typing import List, Tuple\n",
    "from tqdm import tqdm"
   ]
  },
  {
   "cell_type": "markdown",
   "metadata": {},
   "source": [
    "# Classe GridWorld"
   ]
  },
  {
   "cell_type": "code",
   "execution_count": 22,
   "metadata": {},
   "outputs": [],
   "source": [
    "from grid import GridWorld"
   ]
  },
  {
   "cell_type": "markdown",
   "metadata": {},
   "source": [
    "# Exemple de partie manuelle"
   ]
  },
  {
   "cell_type": "code",
   "execution_count": 23,
   "metadata": {},
   "outputs": [
    {
     "name": "stdout",
     "output_type": "stream",
     "text": [
      "X _ _ _ _ \n",
      "_ _ _ _ _ \n",
      "_ _ _ _ _ \n",
      "_ _ _ _ _ \n",
      "_ _ _ _ _ \n"
     ]
    }
   ],
   "source": [
    "grid = GridWorld()\n",
    "\n",
    "grid.display()"
   ]
  },
  {
   "cell_type": "code",
   "execution_count": 24,
   "metadata": {},
   "outputs": [
    {
     "name": "stdout",
     "output_type": "stream",
     "text": [
      "_ X _ _ _ \n",
      "_ _ _ _ _ \n",
      "_ _ _ _ _ \n",
      "_ _ _ _ _ \n",
      "_ _ _ _ _ \n"
     ]
    }
   ],
   "source": [
    "grid.step(1)\n",
    "grid.display()"
   ]
  },
  {
   "cell_type": "code",
   "execution_count": 25,
   "metadata": {},
   "outputs": [
    {
     "name": "stdout",
     "output_type": "stream",
     "text": [
      "_ _ _ _ _ \n",
      "_ X _ _ _ \n",
      "_ _ _ _ _ \n",
      "_ _ _ _ _ \n",
      "_ _ _ _ _ \n"
     ]
    }
   ],
   "source": [
    "grid.step(3)\n",
    "grid.display()"
   ]
  },
  {
   "cell_type": "code",
   "execution_count": 26,
   "metadata": {},
   "outputs": [
    {
     "name": "stdout",
     "output_type": "stream",
     "text": [
      "_ _ _ _ _ \n",
      "_ _ _ _ _ \n",
      "_ X _ _ _ \n",
      "_ _ _ _ _ \n",
      "_ _ _ _ _ \n"
     ]
    }
   ],
   "source": [
    "grid.step(3)\n",
    "grid.display()"
   ]
  },
  {
   "cell_type": "code",
   "execution_count": 27,
   "metadata": {},
   "outputs": [
    {
     "name": "stdout",
     "output_type": "stream",
     "text": [
      "_ _ _ _ _ \n",
      "_ _ _ _ _ \n",
      "_ _ _ X _ \n",
      "_ _ _ _ _ \n",
      "_ _ _ _ _ \n"
     ]
    }
   ],
   "source": [
    "grid.step(1)\n",
    "grid.step(1)\n",
    "grid.display()"
   ]
  },
  {
   "cell_type": "code",
   "execution_count": 28,
   "metadata": {},
   "outputs": [
    {
     "name": "stdout",
     "output_type": "stream",
     "text": [
      "_ _ _ _ _ \n",
      "_ _ _ _ _ \n",
      "_ _ _ _ _ \n",
      "_ _ _ _ _ \n",
      "_ _ _ X _ \n"
     ]
    }
   ],
   "source": [
    "grid.step(3)\n",
    "grid.step(3)\n",
    "grid.display()"
   ]
  },
  {
   "cell_type": "code",
   "execution_count": 29,
   "metadata": {},
   "outputs": [
    {
     "name": "stdout",
     "output_type": "stream",
     "text": [
      "_ _ _ _ _ \n",
      "_ _ _ _ _ \n",
      "_ _ _ _ _ \n",
      "_ _ _ _ _ \n",
      "_ _ _ _ X \n"
     ]
    },
    {
     "data": {
      "text/plain": [
       "1.0"
      ]
     },
     "execution_count": 29,
     "metadata": {},
     "output_type": "execute_result"
    }
   ],
   "source": [
    "grid.step(1)\n",
    "grid.display()\n",
    "grid.score()"
   ]
  },
  {
   "cell_type": "markdown",
   "metadata": {},
   "source": [
    "# Algorithme Naïf Q-learning\n",
    "\n",
    "L'algorithme naïf de Q-learning est une méthode d'apprentissage par renforcement sans modèle qui cherche à apprendre la politique optimale pour un agent en explorant et en exploitant un environnement. Cet algorithme utilise une table de valeurs Q pour stocker et mettre à jour les estimations des récompenses futures attendues pour chaque paire état-action. Voici les étapes clés de cet algorithme :\n",
    "\n",
    "1. **Initialisation** : La table Q est initialement remplie de valeurs arbitraires, et ces valeurs sont progressivement ajustées à travers les épisodes d'apprentissage.\n",
    "\n",
    "2. **Choix des actions** : À chaque étape, l'agent choisit une action basée soit sur l'exploration (choix aléatoire) pour découvrir de nouvelles stratégies, soit sur l'exploitation (choisir l'action avec la valeur Q la plus élevée pour l'état actuel) pour maximiser les récompenses.\n",
    "\n",
    "3. **Mise à jour de Q** : Après avoir pris une action, l'agent observe la récompense obtenue et le nouvel état atteint. La valeur Q pour la paire état-action est ensuite mise à jour en utilisant la formule :\n",
    "   \\[\n",
    "   Q(s, a) = Q(s, a) + \\alpha \\left[r + \\gamma \\max_{a'} Q(s', a') - Q(s, a)\\right]\n",
    "   \\]\n",
    "   où \\( \\alpha \\) est le taux d'apprentissage, \\( \\gamma \\) est le facteur de dépréciation, \\( r \\) est la récompense observée, \\( s' \\) est le nouvel état, et \\( a' \\) est la meilleure action possible dans le nouvel état.\n",
    "\n",
    "4. **Répétition** : Ces étapes sont répétées pour de nombreux épisodes jusqu'à ce que la table Q converge vers une approximation de la fonction de valeur optimale, permettant à l'agent de suivre la politique optimale déduite de Q.\n",
    "\n",
    "L'algorithme de Q-learning est particulièrement utile pour les problèmes avec un espace d'état et d'action discrets et peut être appliqué à une variété de tâches d'apprentissage et de décision.\n"
   ]
  },
  {
   "cell_type": "code",
   "execution_count": 30,
   "metadata": {},
   "outputs": [
    {
     "name": "stderr",
     "output_type": "stream",
     "text": [
      "100%|██████████| 10000/10000 [00:01<00:00, 5716.80it/s]\n"
     ]
    },
    {
     "data": {
      "text/plain": [
       "({(0, 0): 1,\n",
       "  (0, 1): 1,\n",
       "  (1, 1): 1,\n",
       "  (1, 2): 0,\n",
       "  (0, 2): 2,\n",
       "  (1, 0): 1,\n",
       "  (2, 1): 1,\n",
       "  (3, 1): 1,\n",
       "  (3, 0): 0,\n",
       "  (2, 0): 3,\n",
       "  (2, 2): 1,\n",
       "  (2, 3): 0,\n",
       "  (1, 3): 0,\n",
       "  (0, 3): 3,\n",
       "  (0, 4): 1,\n",
       "  (1, 4): 1,\n",
       "  (2, 4): 1,\n",
       "  (3, 2): 2,\n",
       "  (3, 4): 1,\n",
       "  (4, 1): 3,\n",
       "  (4, 2): 3,\n",
       "  (4, 3): 3,\n",
       "  (3, 3): 1},\n",
       " {(0, 0): {1: 0.9930209650349772, 3: 0.9930209650349772},\n",
       "  (0, 1): {1: 0.994014980014992, 2: 0.9920279440543883, 3: 0.9920279440677878},\n",
       "  (1, 1): {0: 0.9930209643624979,\n",
       "   1: 0.9950099900049977,\n",
       "   2: 0.9930209581489965,\n",
       "   3: 0.9910358637700438},\n",
       "  (1, 2): {0: 0.992027943234543,\n",
       "   1: 0.694392254729348,\n",
       "   2: 0.7754102039188542,\n",
       "   3: 0.6351622320828576},\n",
       "  (0, 2): {1: 0.9244935590828085,\n",
       "   2: 0.9930209650349772,\n",
       "   3: 0.6798895548448008},\n",
       "  (1, 0): {0: 0.9920277596744701, 1: 0.994014980014992, 3: 0.9940100912606358},\n",
       "  (2, 1): {0: 0.9940149800149669,\n",
       "   1: 0.9960059960009989,\n",
       "   2: 0.9940149800149813,\n",
       "   3: 0.9940149800121856},\n",
       "  (3, 1): {0: 0.9950099900049906,\n",
       "   1: 0.9970029989999992,\n",
       "   2: 0.9930209650346662,\n",
       "   3: 0.9950099900049865},\n",
       "  (3, 0): {0: 0.994014980014992, 1: -2.749804984130681, 3: 0.8922594282280994},\n",
       "  (2, 0): {0: 0.9930206097529564,\n",
       "   1: 0.9930207704657965,\n",
       "   3: 0.9950099900049977},\n",
       "  (2, 2): {0: 0.8461807536196315,\n",
       "   1: 0.995009990004899,\n",
       "   2: 0.8491723019098765,\n",
       "   3: 0.5643664407284505},\n",
       "  (2, 3): {0: 0.694671203029783,\n",
       "   1: 0.6190299242853772,\n",
       "   2: 0.4571972674277821,\n",
       "   3: 0.33055139350268076},\n",
       "  (1, 3): {0: 0.6973369555364599,\n",
       "   1: 0.5610399112143591,\n",
       "   2: 0.5819824387907855,\n",
       "   3: 0.6920840258844048},\n",
       "  (0, 3): {1: 0.6932696110099392,\n",
       "   2: 0.6828126392016383,\n",
       "   3: 0.7052956078160192},\n",
       "  (0, 4): {1: 0.7313560225889517, 2: 0.6943981712919876},\n",
       "  (1, 4): {0: 0.6654849872087129,\n",
       "   1: 0.7856802473140214,\n",
       "   2: 0.5856291911558938},\n",
       "  (2, 4): {0: 0.702406916732623, 1: 0.8705559977117558, 2: 0.6946970926142341},\n",
       "  (3, 2): {0: 0.9244963587011086,\n",
       "   1: 0.882518387984508,\n",
       "   2: 0.9960059960009989,\n",
       "   3: 0.9312226076570503},\n",
       "  (3, 4): {0: 0.6998391907443728,\n",
       "   1: 0.9678711515102308,\n",
       "   2: 0.6306412260231222},\n",
       "  (4, 1): {0: 0.9960059960009989,\n",
       "   2: -2.9999999999999973,\n",
       "   3: 0.9980009999999991},\n",
       "  (4, 2): {0: 0.9950099900049977,\n",
       "   2: 0.9970029989999992,\n",
       "   3: 0.9989999999999996},\n",
       "  (4, 3): {0: 0.9980009999999956,\n",
       "   2: 0.9980009999999991,\n",
       "   3: 0.9999999999999994},\n",
       "  (3, 3): {0: 0.6762281523196334,\n",
       "   1: 0.9989999999999996,\n",
       "   2: 0.8341955872487634,\n",
       "   3: 0.6609618830795227}})"
      ]
     },
     "execution_count": 30,
     "metadata": {},
     "output_type": "execute_result"
    }
   ],
   "source": [
    "def naive_q_learning_gridworld(env_type, alpha: float = 0.1, epsilon: float = 0.1, gamma: float = 0.999, nb_iter: int = 100000):\n",
    "    Q = {}\n",
    "\n",
    "    env = env_type()\n",
    "    for it in tqdm(range(nb_iter)):\n",
    "        env.reset()\n",
    "\n",
    "        while not env.is_game_over():\n",
    "            s = env.state_id()\n",
    "            aa = env.available_actions()\n",
    "\n",
    "            if s not in Q:\n",
    "                Q[s] = {}\n",
    "                for a in aa:\n",
    "                    Q[s][a] = np.random.random()  # Initialize Q-values for each state-action pair\n",
    "\n",
    "            # Decide whether to explore or exploit\n",
    "            if np.random.random() < epsilon:\n",
    "                a = np.random.choice(aa)\n",
    "            else:\n",
    "                # Choose the best action based on current Q-values\n",
    "                q_s = [Q[s][a] for a in aa]\n",
    "                best_a_index = np.argmax(q_s)\n",
    "                a = aa[best_a_index]\n",
    "\n",
    "            prev_score = env.score()\n",
    "            env.step(a)\n",
    "            r = env.score() - prev_score\n",
    "\n",
    "            s_p = env.state_id()\n",
    "            aa_p = env.available_actions()\n",
    "\n",
    "            if env.is_game_over():\n",
    "                target = r\n",
    "            else:\n",
    "                if s_p not in Q:\n",
    "                    Q[s_p] = {}\n",
    "                    for a_p in aa_p:\n",
    "                        Q[s_p][a_p] = np.random.random()\n",
    "                q_s_p = [Q[s_p][a_p] for a_p in aa_p]\n",
    "                max_a_p = np.max(q_s_p)\n",
    "                target = r + gamma * max_a_p\n",
    "\n",
    "            Q[s][a] = (1 - alpha) * Q[s][a] + alpha * target\n",
    "\n",
    "    # Extract policy from Q-values\n",
    "    Pi = {}\n",
    "    for s, actions in Q.items():\n",
    "        best_a = max(actions, key=actions.get)\n",
    "        Pi[s] = best_a\n",
    "\n",
    "    return Pi, Q\n",
    "\n",
    "# Example usage:\n",
    "naive_q_learning_gridworld(GridWorld, nb_iter=10000)"
   ]
  },
  {
   "cell_type": "markdown",
   "metadata": {},
   "source": [
    "# Algorithme Monte Carlo avec départs exploratoires (ES)\n",
    "\n",
    "L'algorithme de Monte Carlo avec départs exploratoires (ES) est une technique d'apprentissage par renforcement qui permet d'estimer la politique optimale en utilisant l'échantillonnage complet des retours (gains cumulés) de chaque épisode. Contrairement aux méthodes basées sur le temps différé comme Q-learning, les méthodes Monte Carlo ajustent les estimations de la politique uniquement à la fin de chaque épisode. Voici les étapes principales de cet algorithme :\n",
    "\n",
    "1. **Initialisation** : La politique (Pi) et la table de valeurs Q sont initialisées. Pour chaque état, une action est choisie aléatoirement comme action par défaut. Un dictionnaire de retours est également initialisé pour stocker les retours accumulés pour chaque paire état-action.\n",
    "\n",
    "2. **Départs exploratoires** : Chaque épisode commence dans un état initial choisi aléatoirement avec une action également choisie aléatoirement. Cela assure que toutes les paires état-action ont une chance d'être explorées suffisamment.\n",
    "\n",
    "3. **Génération de l'épisode** : L'agent suit la politique actuelle sauf pour le premier choix qui est aléatoire. L'épisode est enregistré sous forme de séquence de triplets (état, action, récompense).\n",
    "\n",
    "4. **Calcul du retour** : À la fin de l'épisode, le retour pour chaque étape est calculé en remontant depuis la fin de l'épisode jusqu'au début, en utilisant le facteur de dépréciation \\( \\gamma \\). Le retour est le gain cumulé à partir de cette étape jusqu'à la fin de l'épisode.\n",
    "\n",
    "5. **Mise à jour de Q et de la politique** :\n",
    "   - **Mise à jour de Q** : Pour chaque paire état-action unique rencontrée dans l'épisode, le retour est ajouté à la liste des retours correspondants et la valeur Q est mise à jour comme la moyenne de ces retours.\n",
    "   - **Mise à jour de la politique** : Pour chaque état visité, la politique est mise à jour pour choisir l'action qui maximise la valeur Q estimée pour cet état.\n",
    "\n",
    "6. **Répétition** : Le processus est répété pour un grand nombre d'épisodes pour permettre à la politique de converger vers la politique optimale.\n",
    "\n",
    "Cet algorithme est particulièrement utile dans les environnements avec des dynamiques simples où la méthode des départs exploratoires est faisable. Il est aussi bien adapté aux situations où il est possible de simuler l'environnement pour générer des épisodes avec des conditions de départ arbitraires.\n"
   ]
  },
  {
   "cell_type": "code",
   "execution_count": 31,
   "metadata": {},
   "outputs": [
    {
     "name": "stderr",
     "output_type": "stream",
     "text": [
      "100%|██████████| 10000/10000 [00:04<00:00, 2345.36it/s]\n"
     ]
    },
    {
     "data": {
      "text/plain": [
       "{(0, 0): 3,\n",
       " (0, 1): 3,\n",
       " (1, 1): 1,\n",
       " (2, 1): 1,\n",
       " (1, 3): 1,\n",
       " (2, 3): 3,\n",
       " (3, 3): 1,\n",
       " (3, 2): 1,\n",
       " (1, 2): 3,\n",
       " (2, 2): 2,\n",
       " (0, 3): 3,\n",
       " (0, 2): 3,\n",
       " (1, 0): 3,\n",
       " (2, 0): 3,\n",
       " (3, 0): 3,\n",
       " (3, 1): 3,\n",
       " (4, 2): 3,\n",
       " (4, 1): 3,\n",
       " (2, 4): 1,\n",
       " (3, 4): 1,\n",
       " (0, 4): 1,\n",
       " (1, 4): 1,\n",
       " (4, 3): 3}"
      ]
     },
     "execution_count": 31,
     "metadata": {},
     "output_type": "execute_result"
    }
   ],
   "source": [
    "def naive_monte_carlo_with_exploring_starts(env_type, gamma=0.999, nb_iter=10000, max_steps=10):\n",
    "    Pi = {}\n",
    "    Q = {}\n",
    "    Returns = {}\n",
    "\n",
    "    for it in tqdm(range(nb_iter)):\n",
    "        env = env_type.from_random_state()  # Assurez-vous que cette méthode initialise correctement\n",
    "\n",
    "        is_first_action = True\n",
    "        trajectory = []\n",
    "        steps_count = 0\n",
    "        while not env.is_game_over() and steps_count < max_steps:\n",
    "            s = env.state_id()\n",
    "            aa = env.available_actions()\n",
    "\n",
    "            if s not in Pi:\n",
    "                Pi[s] = np.random.choice(aa)\n",
    "\n",
    "            if is_first_action:\n",
    "                a = np.random.choice(aa)\n",
    "                is_first_action = False\n",
    "            else:\n",
    "                a = Pi[s]\n",
    "\n",
    "            prev_score = env.score()\n",
    "            env.step(a)\n",
    "            r = env.score() - prev_score\n",
    "\n",
    "            trajectory.append((s, a, r, aa))\n",
    "            steps_count += 1\n",
    "\n",
    "        G = 0\n",
    "        for (t, (s, a, r, aa)) in reversed(list(enumerate(trajectory))):\n",
    "            G = gamma * G + r\n",
    "\n",
    "            if all(map(lambda triplet: triplet[0] != s or triplet[1] != a, trajectory[:t])):\n",
    "                if (s, a) not in Returns:\n",
    "                    Returns[(s, a)] = []\n",
    "                Returns[(s, a)].append(G)\n",
    "                Q[(s, a)] = np.mean(Returns[(s, a)])\n",
    "\n",
    "                best_a = None\n",
    "                best_a_score = 0.0\n",
    "                for a in aa:\n",
    "                    if (s, a) not in Q:\n",
    "                        Q[(s, a)] = np.random.random()\n",
    "                    if best_a is None or Q[(s, a)] > best_a_score:\n",
    "                        best_a = a\n",
    "                        best_a_score = Q[(s, a)]\n",
    "\n",
    "                Pi[s] = best_a\n",
    "    return Pi\n",
    "  \n",
    "naive_monte_carlo_with_exploring_starts(GridWorld, nb_iter=10000)"
   ]
  },
  {
   "cell_type": "markdown",
   "metadata": {},
   "source": [
    "# Algorithme On-policy First visit Monte Carlo control"
   ]
  },
  {
   "cell_type": "code",
   "execution_count": 32,
   "metadata": {},
   "outputs": [
    {
     "name": "stderr",
     "output_type": "stream",
     "text": [
      "100%|██████████| 10000/10000 [00:05<00:00, 1906.26it/s]\n"
     ]
    },
    {
     "data": {
      "text/plain": [
       "{(1, 1): 3,\n",
       " (1, 0): 0,\n",
       " (2, 0): 3,\n",
       " (1, 2): 3,\n",
       " (0, 2): 3,\n",
       " (0, 1): 3,\n",
       " (0, 0): 3,\n",
       " (2, 1): 3,\n",
       " (3, 4): 1,\n",
       " (3, 3): 1,\n",
       " (0, 3): 1,\n",
       " (0, 4): 2,\n",
       " (1, 4): 2,\n",
       " (1, 3): 1,\n",
       " (4, 1): 0,\n",
       " (4, 2): 3,\n",
       " (4, 3): 3,\n",
       " (3, 1): 3,\n",
       " (3, 0): 3,\n",
       " (2, 4): 1,\n",
       " (2, 2): 1,\n",
       " (3, 2): 3,\n",
       " (2, 3): 1}"
      ]
     },
     "execution_count": 32,
     "metadata": {},
     "output_type": "execute_result"
    }
   ],
   "source": [
    "import random\n",
    "from collections import defaultdict\n",
    "\n",
    "def on_policy_first_visit_mc_control(env_type, gamma=0.999, epsilon=0.1, nb_iter=10000, max_steps=10):\n",
    "    Pi = {}\n",
    "    Q = defaultdict(lambda: 0.0)\n",
    "    Returns = defaultdict(list)\n",
    "\n",
    "    for it in tqdm(range(nb_iter)):\n",
    "        env = env_type.from_random_state()\n",
    "        trajectory = []\n",
    "        steps_count = 0\n",
    "\n",
    "        while not env.is_game_over() and steps_count < max_steps:\n",
    "            s = env.state_id()\n",
    "            aa = env.available_actions()\n",
    "\n",
    "            if np.random.random() < epsilon or s not in Pi:\n",
    "                a = np.random.choice(aa)\n",
    "            else:\n",
    "                a = Pi[s]\n",
    "\n",
    "            prev_score = env.score()\n",
    "            env.step(a)\n",
    "            r = env.score() - prev_score\n",
    "\n",
    "            trajectory.append((s, a, r, aa))\n",
    "            steps_count += 1\n",
    "\n",
    "        G = 0\n",
    "        visited_state_action_pairs = set()\n",
    "        for (s, a, r, aa) in reversed(trajectory):\n",
    "            G = gamma * G + r\n",
    "\n",
    "            if (s, a) not in visited_state_action_pairs:\n",
    "                visited_state_action_pairs.add((s, a))\n",
    "                Returns[(s, a)].append(G)\n",
    "                Q[(s, a)] = np.mean(Returns[(s, a)])\n",
    "\n",
    "                best_a = max(aa, key=lambda action: Q[(s, action)])\n",
    "                Pi[s] = best_a\n",
    "\n",
    "    return Pi\n",
    "\n",
    "on_policy_first_visit_mc_control(GridWorld, nb_iter=10000)"
   ]
  },
  {
   "cell_type": "markdown",
   "metadata": {},
   "source": [
    "# Off Policy First visit Monte Carlo Control"
   ]
  },
  {
   "cell_type": "code",
   "execution_count": 33,
   "metadata": {},
   "outputs": [
    {
     "name": "stderr",
     "output_type": "stream",
     "text": [
      "100%|██████████| 10000/10000 [00:01<00:00, 7820.23it/s]\n"
     ]
    },
    {
     "data": {
      "text/plain": [
       "{(4, 1): 0,\n",
       " (0, 2): 0,\n",
       " (1, 4): 0,\n",
       " (4, 3): 0,\n",
       " (4, 2): 0,\n",
       " (2, 0): 0,\n",
       " (1, 0): 0,\n",
       " (0, 4): 0,\n",
       " (2, 1): 0,\n",
       " (2, 4): 0,\n",
       " (2, 3): 0,\n",
       " (1, 1): 0,\n",
       " (3, 4): 0,\n",
       " (0, 3): 0,\n",
       " (0, 0): 1,\n",
       " (1, 3): 0,\n",
       " (3, 0): 0,\n",
       " (0, 1): 1,\n",
       " (1, 2): 0,\n",
       " (3, 2): 0,\n",
       " (2, 2): 0,\n",
       " (3, 1): 0,\n",
       " (3, 3): 0}"
      ]
     },
     "execution_count": 33,
     "metadata": {},
     "output_type": "execute_result"
    }
   ],
   "source": [
    "def off_policy_mc_control(env_type, gamma=0.999, nb_iter=10000, max_steps=10):\n",
    "    Q = defaultdict(lambda: 0.0)\n",
    "    C = defaultdict(lambda: 0.0)\n",
    "    b = defaultdict(lambda: 1.0)  # behavior policy (random)\n",
    "\n",
    "    Pi = {}\n",
    "\n",
    "    for it in tqdm(range(nb_iter)):\n",
    "        env = env_type.from_random_state()\n",
    "        trajectory = []\n",
    "        steps_count = 0\n",
    "\n",
    "        while not env.is_game_over() and steps_count < max_steps:\n",
    "            s = env.state_id()\n",
    "            aa = env.available_actions()\n",
    "\n",
    "            a = np.random.choice(aa)\n",
    "            prev_score = env.score()\n",
    "            env.step(a)\n",
    "            r = env.score() - prev_score\n",
    "\n",
    "            trajectory.append((s, a, r))\n",
    "            steps_count += 1\n",
    "\n",
    "        G = 0\n",
    "        W = 1.0\n",
    "        for (s, a, r) in reversed(trajectory):\n",
    "            G = gamma * G + r\n",
    "            C[(s, a)] += W\n",
    "            Q[(s, a)] += (W / C[(s, a)]) * (G - Q[(s, a)])\n",
    "            \n",
    "            Pi[s] = max(env.available_actions(), key=lambda action: Q[(s, action)])\n",
    "            \n",
    "            if a != Pi[s]:\n",
    "                break\n",
    "            \n",
    "            W *= 1.0 / b[(s, a)]\n",
    "\n",
    "    return Pi\n",
    "\n",
    "off_policy_mc_control(GridWorld, nb_iter=10000)\n"
   ]
  },
  {
   "cell_type": "markdown",
   "metadata": {},
   "source": [
    "# Sarsa"
   ]
  },
  {
   "cell_type": "code",
   "execution_count": 34,
   "metadata": {},
   "outputs": [],
   "source": [
    "def epsilon_greedy_policy(Q, state, epsilon, available_actions):\n",
    "    if random.uniform(0, 1) < epsilon:\n",
    "        return random.choice(available_actions)\n",
    "    else:\n",
    "        return max(available_actions, key=lambda x: Q[state][x])\n",
    "\n",
    "def sarsa(env, num_episodes, alpha, gamma, epsilon):\n",
    "    Q = {}\n",
    "    for row in range(5):\n",
    "        for col in range(5):\n",
    "            Q[(col, row)] = [0.0, 0.0, 0.0, 0.0]\n",
    "\n",
    "    for episode in range(num_episodes):\n",
    "        env.reset()\n",
    "        state = env.state_id()\n",
    "        available_actions = env.available_actions()\n",
    "        action = epsilon_greedy_policy(Q, state, epsilon, available_actions)\n",
    "\n",
    "        while not env.is_game_over():\n",
    "            env.step(action)\n",
    "            reward = env.score()\n",
    "            next_state = env.state_id()\n",
    "            next_available_actions = env.available_actions()\n",
    "            next_action = epsilon_greedy_policy(Q, next_state, epsilon, next_available_actions)\n",
    "\n",
    "            Q[state][action] += alpha * (reward + gamma * Q[next_state][next_action] - Q[state][action])\n",
    "\n",
    "            state = next_state\n",
    "            action = next_action\n",
    "\n",
    "    return Q"
   ]
  },
  {
   "cell_type": "code",
   "execution_count": 35,
   "metadata": {},
   "outputs": [
    {
     "name": "stdout",
     "output_type": "stream",
     "text": [
      "State (0, 0): [0.0, 0.8197766537364407, 0.0, 0.6045395400797506]\n",
      "State (1, 0): [0.6964077776910959, 0.5294066677117357, 0.0, 0.8858618477587068]\n",
      "State (2, 0): [0.7530976757387631, 0.0, 0.0, 0.21231106193855143]\n",
      "State (3, 0): [0.015192003320015602, 0.0, 0.0, 0.0]\n",
      "State (4, 0): [0.0, 0.0, 0.0, 0.0]\n",
      "State (0, 1): [0.0, 0.8358628844802332, 0.08381951830585715, 0.29485510318068714]\n",
      "State (1, 1): [0.6836743401052916, 0.5675754445062333, 0.7180011235267679, 0.9139809541043141]\n",
      "State (2, 1): [0.7776261281766034, 0.0, 0.08301657793368315, 0.0]\n",
      "State (3, 1): [0.0, 0.0, 0.0, 0.0]\n",
      "State (4, 1): [0.0, 0.0, 0.0, 0.0]\n",
      "State (0, 2): [0.0, 0.7997184320884899, 0.013642422491536944, 0.14381731690043092]\n",
      "State (1, 2): [0.5070000860678378, 0.6180710805226888, 0.7202023978520474, 0.9058344555396326]\n",
      "State (2, 2): [0.7750672784316851, 0.0, 0.0028039520083012366, 0.0]\n",
      "State (3, 2): [0.0, 0.0, 0.0, 0.0]\n",
      "State (4, 2): [0.0, 0.0, 0.0, 0.0]\n",
      "State (0, 3): [0.0, 0.8113791404205237, 0.0, 0.1574848639066031]\n",
      "State (1, 3): [0.5872573323998831, 0.6635940654716239, 0.7496221546486455, 0.9284627974533607]\n",
      "State (2, 3): [0.9168069989492127, 0.0659054322760625, 0.07252886215985281, 0.21704327298936577]\n",
      "State (3, 3): [0.6879219878509124, 0.0, 0.0, 0.0]\n",
      "State (4, 3): [0.07322825808451389, 0.0, 0.0, 0.0]\n",
      "State (0, 4): [0.0, 0.9266324955436556, 0.0068796675445607055, 0.0]\n",
      "State (1, 4): [0.8416640865747521, 0.9666907547211316, 0.8334889890503379, 0.0]\n",
      "State (2, 4): [0.9132089502129408, 0.9758678874530191, 0.7675633895693568, 0.0]\n",
      "State (3, 4): [0.9137325372942391, 0.9999999999999996, 0.46264173662347996, 0.0]\n",
      "State (4, 4): [0.0, 0.0, 0.0, 0.0]\n",
      "→ ↓ ← ← ← \n",
      "→ ↓ ← ← ← \n",
      "→ ↓ ← ← ← \n",
      "→ ↓ ← ← ← \n",
      "→ → → → ← \n"
     ]
    }
   ],
   "source": [
    "alpha = 0.1  # Taux d'apprentissage\n",
    "gamma = 0.99  # Facteur de réduction\n",
    "epsilon = 0.1  # Taux d'exploration\n",
    "num_episodes = 1000  # Nombre d'épisodes\n",
    "\n",
    "# Création de l'environnement et exécution de l'algorithme SARSA\n",
    "env = GridWorld()\n",
    "Q = sarsa(env, num_episodes, alpha, gamma, epsilon)\n",
    "for state, actions in Q.items():\n",
    "    print(f\"State {state}: {actions}\")\n",
    "# Affichage de la politique optimale trouvée\n",
    "for row in range(5):\n",
    "    for col in range(5):\n",
    "        state = (col, row)\n",
    "        best_action = np.argmax(Q[state])\n",
    "        action_symbols = ['←', '→', '↑', '↓']\n",
    "        print(action_symbols[best_action], end=' ')\n",
    "    print()"
   ]
  },
  {
   "cell_type": "markdown",
   "metadata": {},
   "source": [
    "# Dyna Q"
   ]
  },
  {
   "cell_type": "code",
   "execution_count": 36,
   "metadata": {},
   "outputs": [
    {
     "name": "stdout",
     "output_type": "stream",
     "text": [
      "State (0, 0): [0.0, 0.9316905721681235, 0.0, 0.9317809907111767]\n",
      "State (1, 0): [0.922384996954503, 0.9405854820516394, 0.0, 0.9410946231644033]\n",
      "State (2, 0): [0.9316705423323954, 0.6933107247316131, 0.0, 0.9499624732789695]\n",
      "State (3, 0): [0.9403426112979905, -2.9999999999999982, 0.0, 0.9601039769617077]\n",
      "State (4, 0): [0.0, 0.0, 0.0, 0.0]\n",
      "State (0, 1): [0.0, 0.9410482119407096, 0.9223522637823931, 0.9412116692192106]\n",
      "State (1, 1): [0.9317269645198893, 0.950340813225448, 0.9316312862137077, 0.9505026155560667]\n",
      "State (2, 1): [0.9410515318493251, 0.9600854808533923, 0.9406288014074209, 0.9597864547450842]\n",
      "State (3, 1): [0.9505225005664112, 0.9696077526235671, 0.9505415984859794, 0.9698018192516213]\n",
      "State (4, 1): [0.9600972638193879, 0.0, -2.9999999999999982, 0.9794864325946091]\n",
      "State (0, 2): [0.0, 0.9505895664694212, 0.9317298326444394, 0.9507185046523164]\n",
      "State (1, 2): [0.9411935191485171, 0.9593849256665762, 0.9410734087278769, 0.9585565152391062]\n",
      "State (2, 2): [0.9506149756479179, 0.9698151399628112, 0.9504965262225374, 0.9694130375181892]\n",
      "State (3, 2): [0.9601608365638009, 0.979428770839065, 0.9601132402602311, 0.9797484640526579]\n",
      "State (4, 2): [0.9698991523910175, 0.0, 0.9696476127653016, 0.9897237141167252]\n",
      "State (0, 3): [0.0, 0.960318247426452, 0.9412201430348641, 0.9602762892823193]\n",
      "State (1, 3): [0.9507117673673149, 0.9695003241964951, 0.9504199755386724, 0.9697522494945128]\n",
      "State (2, 3): [0.9603263048560634, 0.9784184545606457, 0.9602269326871121, 0.9780666322356176]\n",
      "State (3, 3): [0.969271103210185, 0.989231213304037, 0.9699357247224439, 0.9898059901436653]\n",
      "State (4, 3): [0.9797807865230612, 0.0, 0.9796864929821797, 0.9999999999999996]\n",
      "State (0, 4): [0.0, 0.9698980718953308, 0.9507705232442973, 0.0]\n",
      "State (1, 4): [0.9601982635983163, 0.9794012555405344, 0.960374473565349, 0.0]\n",
      "State (2, 4): [0.9699647834884914, 0.9893816828871244, 0.969667438819714, 0.0]\n",
      "State (3, 4): [0.9796870347224655, 0.9999999999999996, 0.9798835448014392, 0.0]\n",
      "State (4, 4): [0.0, 0.0, 0.0, 0.0]\n",
      "↓ ↓ ↓ ↓ ← \n",
      "↓ ↓ → ↓ ↓ \n",
      "↓ → → ↓ ↓ \n",
      "→ ↓ → ↓ ↓ \n",
      "→ → → → ← \n"
     ]
    }
   ],
   "source": [
    "def epsilon_greedy_policy(Q, state, epsilon, available_actions):\n",
    "    if not available_actions:\n",
    "        return random.choice([0, 1, 2, 3])\n",
    "    if random.uniform(0, 1) < epsilon:\n",
    "        return random.choice(available_actions)\n",
    "    else:\n",
    "        if available_actions:\n",
    "            return max(available_actions, key=lambda x: Q[state][x])\n",
    "        else:\n",
    "            return random.choice([0, 1, 2, 3])\n",
    "\n",
    "def dyna_q(env, num_episodes, alpha, gamma, epsilon, planning_steps):\n",
    "    Q = {}\n",
    "    model = {}\n",
    "\n",
    "    for row in range(5):\n",
    "        for col in range(5):\n",
    "            Q[(col, row)] = [0.0, 0.0, 0.0, 0.0]\n",
    "            model[(col, row)] = {}\n",
    "\n",
    "    for episode in range(num_episodes):\n",
    "        env.reset()\n",
    "        state = env.state_id()\n",
    "        available_actions = env.available_actions()\n",
    "        action = epsilon_greedy_policy(Q, state, epsilon, available_actions)\n",
    "\n",
    "        while not env.is_game_over():\n",
    "            env.step(action)\n",
    "            reward = env.score()\n",
    "            next_state = env.state_id()\n",
    "            next_available_actions = env.available_actions()\n",
    "            next_action = epsilon_greedy_policy(Q, next_state, epsilon, next_available_actions)\n",
    "\n",
    "            # Mise à jour de Q\n",
    "            Q[state][action] += alpha * (reward + gamma * Q[next_state][next_action] - Q[state][action])\n",
    "\n",
    "            # Mise à jour du modèle\n",
    "            if action not in model[state]:\n",
    "                model[state][action] = (reward, next_state)\n",
    "            else:\n",
    "                model[state][action] = (reward, next_state)\n",
    "\n",
    "            # Planification\n",
    "            for _ in range(planning_steps):\n",
    "                sampled_state = random.choice(list(model.keys()))\n",
    "                if not model[sampled_state]:\n",
    "                    continue\n",
    "                sampled_action = random.choice(list(model[sampled_state].keys()))\n",
    "                sampled_reward, sampled_next_state = model[sampled_state][sampled_action]\n",
    "\n",
    "                Q[sampled_state][sampled_action] += alpha * (sampled_reward + gamma * max(Q[sampled_next_state]) - Q[sampled_state][sampled_action])\n",
    "\n",
    "            state = next_state\n",
    "            action = next_action\n",
    "\n",
    "    return Q\n",
    "\n",
    "# Paramètres\n",
    "alpha = 0.1  # Taux d'apprentissage\n",
    "gamma = 0.99  # Facteur de réduction\n",
    "epsilon = 0.1  # Taux d'exploration\n",
    "num_episodes = 1000  # Nombre d'épisodes\n",
    "planning_steps = 5  # Nombre d'étapes de planification\n",
    "\n",
    "# Création de l'environnement et exécution de l'algorithme Dyna-Q\n",
    "env = GridWorld()\n",
    "Q = dyna_q(env, num_episodes, alpha, gamma, epsilon, planning_steps)\n",
    "for state, actions in Q.items():\n",
    "    print(f\"State {state}: {actions}\")\n",
    "\n",
    "# Affichage de la politique optimale trouvée\n",
    "for row in range(5):\n",
    "    for col in range(5):\n",
    "        state = (col, row)\n",
    "        best_action = np.argmax(Q[state])\n",
    "        action_symbols = ['←', '→', '↑', '↓']\n",
    "        print(action_symbols[best_action], end=' ')\n",
    "    print()"
   ]
  }
 ],
 "metadata": {
  "kernelspec": {
   "display_name": "FrameworkML",
   "language": "python",
   "name": "python3"
  },
  "language_info": {
   "codemirror_mode": {
    "name": "ipython",
    "version": 3
   },
   "file_extension": ".py",
   "mimetype": "text/x-python",
   "name": "python",
   "nbconvert_exporter": "python",
   "pygments_lexer": "ipython3",
   "version": "3.11.5"
  }
 },
 "nbformat": 4,
 "nbformat_minor": 2
}
