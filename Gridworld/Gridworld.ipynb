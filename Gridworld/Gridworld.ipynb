{
 "cells": [
  {
   "cell_type": "markdown",
   "metadata": {},
   "source": [
    "# **GridWorld** est une grille de 5x5 cases (5 lignes de 5 colonnes) sur laquelle un agent peut se déplacer. L'agent commence généralement dans la première case de la grille (première ligne, première colonne). Il a quatre actions possibles à sa disposition :\n",
    "- **Gauche** : se déplacer vers la gauche.\n",
    "- **Droite** : se déplacer vers la droite.\n",
    "- **Haut** : se déplacer vers le haut.\n",
    "- **Bas** : se déplacer vers le bas.\n",
    "\n",
    "**Conditions terminales et récompenses :**\n",
    "- Atteindre la dernière case de la première ligne (position [0, 4]) est un état terminal et donne une récompense de -3.\n",
    "- Atteindre la dernière case de la dernière ligne (position [4, 4]) est également un état terminal, mais avec une récompense de 1.\n",
    "- Essayer de se déplacer en dehors des bords de la grille entraîne un état terminal avec une récompense de -1."
   ]
  },
  {
   "cell_type": "code",
   "execution_count": 6,
   "metadata": {},
   "outputs": [],
   "source": [
    "import numpy as np\n",
    "from typing import List, Tuple\n",
    "from tqdm import tqdm"
   ]
  },
  {
   "cell_type": "markdown",
   "metadata": {},
   "source": [
    "# Classe GridWorld"
   ]
  },
  {
   "cell_type": "code",
   "execution_count": 7,
   "metadata": {},
   "outputs": [],
   "source": [
    "from grid import GridWorld"
   ]
  },
  {
   "cell_type": "markdown",
   "metadata": {},
   "source": [
    "# Exemple de partie manuelle"
   ]
  },
  {
   "cell_type": "code",
   "execution_count": 8,
   "metadata": {},
   "outputs": [
    {
     "name": "stdout",
     "output_type": "stream",
     "text": [
      "X _ _ _ _ \n",
      "_ _ _ _ _ \n",
      "_ _ _ _ _ \n",
      "_ _ _ _ _ \n",
      "_ _ _ _ _ \n"
     ]
    }
   ],
   "source": [
    "grid = GridWorld()\n",
    "\n",
    "grid.display()"
   ]
  },
  {
   "cell_type": "code",
   "execution_count": 9,
   "metadata": {},
   "outputs": [
    {
     "name": "stdout",
     "output_type": "stream",
     "text": [
      "_ X _ _ _ \n",
      "_ _ _ _ _ \n",
      "_ _ _ _ _ \n",
      "_ _ _ _ _ \n",
      "_ _ _ _ _ \n"
     ]
    }
   ],
   "source": [
    "grid.step(1)\n",
    "grid.display()"
   ]
  },
  {
   "cell_type": "code",
   "execution_count": 10,
   "metadata": {},
   "outputs": [
    {
     "name": "stdout",
     "output_type": "stream",
     "text": [
      "_ _ _ _ _ \n",
      "_ X _ _ _ \n",
      "_ _ _ _ _ \n",
      "_ _ _ _ _ \n",
      "_ _ _ _ _ \n"
     ]
    }
   ],
   "source": [
    "grid.step(3)\n",
    "grid.display()"
   ]
  },
  {
   "cell_type": "code",
   "execution_count": 6,
   "metadata": {},
   "outputs": [
    {
     "name": "stdout",
     "output_type": "stream",
     "text": [
      "_ _ _ _ _ \n",
      "_ _ _ _ _ \n",
      "_ X _ _ _ \n",
      "_ _ _ _ _ \n",
      "_ _ _ _ _ \n"
     ]
    }
   ],
   "source": [
    "grid.step(3)\n",
    "grid.display()"
   ]
  },
  {
   "cell_type": "code",
   "execution_count": 7,
   "metadata": {},
   "outputs": [
    {
     "name": "stdout",
     "output_type": "stream",
     "text": [
      "_ _ _ _ _ \n",
      "_ _ _ _ _ \n",
      "_ _ _ X _ \n",
      "_ _ _ _ _ \n",
      "_ _ _ _ _ \n"
     ]
    }
   ],
   "source": [
    "grid.step(1)\n",
    "grid.step(1)\n",
    "grid.display()"
   ]
  },
  {
   "cell_type": "code",
   "execution_count": 8,
   "metadata": {},
   "outputs": [
    {
     "name": "stdout",
     "output_type": "stream",
     "text": [
      "_ _ _ _ _ \n",
      "_ _ _ _ _ \n",
      "_ _ _ _ _ \n",
      "_ _ _ _ _ \n",
      "_ _ _ X _ \n"
     ]
    }
   ],
   "source": [
    "grid.step(3)\n",
    "grid.step(3)\n",
    "grid.display()"
   ]
  },
  {
   "cell_type": "code",
   "execution_count": 9,
   "metadata": {},
   "outputs": [
    {
     "name": "stdout",
     "output_type": "stream",
     "text": [
      "_ _ _ _ _ \n",
      "_ _ _ _ _ \n",
      "_ _ _ _ _ \n",
      "_ _ _ _ _ \n",
      "_ _ _ _ X \n"
     ]
    },
    {
     "data": {
      "text/plain": [
       "1.0"
      ]
     },
     "execution_count": 9,
     "metadata": {},
     "output_type": "execute_result"
    }
   ],
   "source": [
    "grid.step(1)\n",
    "grid.display()\n",
    "grid.score()"
   ]
  },
  {
   "cell_type": "markdown",
   "metadata": {},
   "source": [
    "# Algorithme Naïf Q-learning\n",
    "\n",
    "L'algorithme naïf de Q-learning est une méthode d'apprentissage par renforcement sans modèle qui cherche à apprendre la politique optimale pour un agent en explorant et en exploitant un environnement. Cet algorithme utilise une table de valeurs Q pour stocker et mettre à jour les estimations des récompenses futures attendues pour chaque paire état-action. Voici les étapes clés de cet algorithme :\n",
    "\n",
    "1. **Initialisation** : La table Q est initialement remplie de valeurs arbitraires, et ces valeurs sont progressivement ajustées à travers les épisodes d'apprentissage.\n",
    "\n",
    "2. **Choix des actions** : À chaque étape, l'agent choisit une action basée soit sur l'exploration (choix aléatoire) pour découvrir de nouvelles stratégies, soit sur l'exploitation (choisir l'action avec la valeur Q la plus élevée pour l'état actuel) pour maximiser les récompenses.\n",
    "\n",
    "3. **Mise à jour de Q** : Après avoir pris une action, l'agent observe la récompense obtenue et le nouvel état atteint. La valeur Q pour la paire état-action est ensuite mise à jour en utilisant la formule :\n",
    "   \\[\n",
    "   Q(s, a) = Q(s, a) + \\alpha \\left[r + \\gamma \\max_{a'} Q(s', a') - Q(s, a)\\right]\n",
    "   \\]\n",
    "   où \\( \\alpha \\) est le taux d'apprentissage, \\( \\gamma \\) est le facteur de dépréciation, \\( r \\) est la récompense observée, \\( s' \\) est le nouvel état, et \\( a' \\) est la meilleure action possible dans le nouvel état.\n",
    "\n",
    "4. **Répétition** : Ces étapes sont répétées pour de nombreux épisodes jusqu'à ce que la table Q converge vers une approximation de la fonction de valeur optimale, permettant à l'agent de suivre la politique optimale déduite de Q.\n",
    "\n",
    "L'algorithme de Q-learning est particulièrement utile pour les problèmes avec un espace d'état et d'action discrets et peut être appliqué à une variété de tâches d'apprentissage et de décision.\n"
   ]
  },
  {
   "cell_type": "code",
   "execution_count": 11,
   "metadata": {},
   "outputs": [
    {
     "name": "stderr",
     "output_type": "stream",
     "text": [
      "100%|██████████| 100000/100000 [00:06<00:00, 15897.71it/s]"
     ]
    },
    {
     "name": "stdout",
     "output_type": "stream",
     "text": [
      "defaultdict(<function naive_q_learning_gridworld.<locals>.<lambda> at 0x7fde99d3cca0>, {(0, 0): {1: 0.9930209650349772, 3: 0.9930209650349772}, (1, 0): {0: 0.9920279440699417, 1: 0.994014980014992, 3: 0.994014980014992}, (1, 1): {0: 0.9930209650349772, 1: 0.9950099900049977, 2: 0.9930209650349772, 3: 0.9950099900049977}, (1, 2): {0: 0.994014980014992, 1: 0.9960059960009989, 2: 0.994014980014992, 3: 0.9960059960009989}, (1, 3): {0: 0.9930209650349772, 1: 0.9970029989999992, 2: 0.9950099900049977, 3: 0.9950099900049977}, (1, 4): {0: 0.9748884434175729, 1: 0.9903108500555139, 2: 0.9960059960009989}, (2, 4): {0: 0.9950099900049977, 1: 0.9989999999999996, 2: 0.9970029989999992}, (2, 3): {0: 0.9960059960009989, 1: 0.9980009999999991, 2: 0.9960059960009989, 3: 0.9980009999999991}, (3, 4): {0: 0.9980009999999991, 1: 0.9999999999999994, 2: 0.9980009999999991}, (3, 3): {0: 0.9970029989999992, 1: 0.9989999999999996, 2: 0.9970029989999992, 3: 0.9989999999999996}, (4, 3): {0: 0.9980009999999991, 2: 0.9980009999999991, 3: 0.9999999999999994}, (0, 4): {1: 0.9941296127678199, 2: 0.7200577624202533}, (0, 3): {1: 0.8734373709973822, 2: 0.994014980014992, 3: 0.9010105146688112}, (0, 2): {1: 0.9950099900049977, 2: 0.9930209650345573, 3: 0.9930209650325873}, (0, 1): {1: 0.9940149800145048, 2: 0.9920279440699417, 3: 0.994014980014992}, (2, 2): {0: 0.9950099900049977, 1: 0.9970029989999992, 2: 0.9950099900049977, 3: 0.9970029989999992}, (3, 2): {0: 0.9960059960009989, 1: 0.9980009999999991, 2: 0.9960059960009989, 3: 0.9980009999999991}, (4, 2): {0: 0.9970029989999992, 2: 0.9970029989999992, 3: 0.9989999999999996}, (4, 1): {0: 0.9960059960000137, 2: -2.9999999999788756, 3: 0.9980009999999991}, (2, 1): {0: 0.994014980014992, 1: 0.9960059960009989, 2: 0.994014980014992, 3: 0.9960059960009989}, (3, 1): {0: 0.9950099900049977, 1: 0.9970029989999992, 2: 0.9950099900049977, 3: 0.9970029989999992}, (2, 0): {0: 0.9930209650349772, 1: 0.9950099900049977, 3: 0.9950099900049977}, (3, 0): {0: 0.994014980014992, 1: -2.9999999999999973, 3: 0.9960059960009989}})\n",
      "→ ↓ → ↑ →\n",
      "→ → → → ↑\n",
      "→ → → → →\n",
      "↓ → → → →\n",
      "  ↓ ↓ ↓  \n"
     ]
    },
    {
     "name": "stderr",
     "output_type": "stream",
     "text": [
      "\n"
     ]
    }
   ],
   "source": [
    "from collections import defaultdict\n",
    "\n",
    "\n",
    "def naive_q_learning_gridworld(env_type, alpha: float = 0.1, epsilon: float = 0.1, gamma: float = 0.999, nb_iter: int = 100000):\n",
    "    Q = defaultdict(lambda: defaultdict(float))\n",
    "\n",
    "    env = env_type()\n",
    "    for it in tqdm(range(nb_iter)):\n",
    "        env.reset()\n",
    "\n",
    "        while not env.is_game_over():\n",
    "            s = env.state_id()\n",
    "            aa = env.available_actions()\n",
    "\n",
    "            if s not in Q:\n",
    "                Q[s] = {a: np.random.random() for a in aa}  # Initialize Q-values for each state-action pair\n",
    "\n",
    "            # Decide whether to explore or exploit\n",
    "            if np.random.random() < epsilon:\n",
    "                a = np.random.choice(aa)\n",
    "            else:\n",
    "                # Choose the best action based on current Q-values\n",
    "                q_s = [Q[s][a] for a in aa]\n",
    "                best_a_index = np.argmax(q_s)\n",
    "                a = aa[best_a_index]\n",
    "\n",
    "            prev_score = env.score()\n",
    "            env.step(a)\n",
    "            r = env.score() - prev_score\n",
    "\n",
    "            s_p = env.state_id()\n",
    "            aa_p = env.available_actions()\n",
    "\n",
    "            if env.is_game_over():\n",
    "                target = r\n",
    "            else:\n",
    "                if s_p not in Q:\n",
    "                    Q[s_p] = {a_p: np.random.random() for a_p in aa_p}\n",
    "                q_s_p = [Q[s_p][a_p] for a_p in aa_p]\n",
    "                max_a_p = np.max(q_s_p)\n",
    "                target = r + gamma * max_a_p\n",
    "\n",
    "            Q[s][a] = (1 - alpha) * Q[s][a] + alpha * target\n",
    "\n",
    "    # Extract policy from Q-values\n",
    "    Pi = {}\n",
    "    for s, actions in Q.items():\n",
    "        best_a = max(actions, key=actions.get)\n",
    "        Pi[s] = best_a\n",
    "\n",
    "    return Pi, Q\n",
    "\n",
    "\n",
    "def print_maxQ(q):\n",
    "    policy_arrows = {\n",
    "        0: '←',  # Gauche\n",
    "        1: '→',  # Droite\n",
    "        2: '↑',  # Haut\n",
    "        3: '↓'   # Bas\n",
    "    }\n",
    "\n",
    "    # Déterminez la taille de la grille à partir des clés de l'état\n",
    "    all_states = list(q.keys())\n",
    "    max_row = max(state[0] for state in all_states)\n",
    "    max_col = max(state[1] for state in all_states)\n",
    "    grid_size = (max_row + 1, max_col + 1)\n",
    "\n",
    "    # Initialisez une grille vide\n",
    "    grid = np.full(grid_size, ' ')\n",
    "    for state, actions in q.items():\n",
    "        best_action = max(actions, key=actions.get)\n",
    "        row, col = state\n",
    "        grid[row, col] = policy_arrows[best_action]\n",
    "\n",
    "    for row in grid:\n",
    "        print(' '.join(row))\n",
    "\n",
    "# Exemple d'utilisation:\n",
    "Pi, Q = naive_q_learning_gridworld(GridWorld, nb_iter=100000)\n",
    "print(Q) \n",
    "print_maxQ(Q)"
   ]
  },
  {
   "cell_type": "markdown",
   "metadata": {},
   "source": [
    "# Algorithme Monte Carlo avec départs exploratoires (ES)\n",
    "\n",
    "L'algorithme de Monte Carlo avec départs exploratoires (ES) est une technique d'apprentissage par renforcement qui permet d'estimer la politique optimale en utilisant l'échantillonnage complet des retours (gains cumulés) de chaque épisode. Contrairement aux méthodes basées sur le temps différé comme Q-learning, les méthodes Monte Carlo ajustent les estimations de la politique uniquement à la fin de chaque épisode. Voici les étapes principales de cet algorithme :\n",
    "\n",
    "1. **Initialisation** : La politique (Pi) et la table de valeurs Q sont initialisées. Pour chaque état, une action est choisie aléatoirement comme action par défaut. Un dictionnaire de retours est également initialisé pour stocker les retours accumulés pour chaque paire état-action.\n",
    "\n",
    "2. **Départs exploratoires** : Chaque épisode commence dans un état initial choisi aléatoirement avec une action également choisie aléatoirement. Cela assure que toutes les paires état-action ont une chance d'être explorées suffisamment.\n",
    "\n",
    "3. **Génération de l'épisode** : L'agent suit la politique actuelle sauf pour le premier choix qui est aléatoire. L'épisode est enregistré sous forme de séquence de triplets (état, action, récompense).\n",
    "\n",
    "4. **Calcul du retour** : À la fin de l'épisode, le retour pour chaque étape est calculé en remontant depuis la fin de l'épisode jusqu'au début, en utilisant le facteur de dépréciation \\( \\gamma \\). Le retour est le gain cumulé à partir de cette étape jusqu'à la fin de l'épisode.\n",
    "\n",
    "5. **Mise à jour de Q et de la politique** :\n",
    "   - **Mise à jour de Q** : Pour chaque paire état-action unique rencontrée dans l'épisode, le retour est ajouté à la liste des retours correspondants et la valeur Q est mise à jour comme la moyenne de ces retours.\n",
    "   - **Mise à jour de la politique** : Pour chaque état visité, la politique est mise à jour pour choisir l'action qui maximise la valeur Q estimée pour cet état.\n",
    "\n",
    "6. **Répétition** : Le processus est répété pour un grand nombre d'épisodes pour permettre à la politique de converger vers la politique optimale.\n",
    "\n",
    "Cet algorithme est particulièrement utile dans les environnements avec des dynamiques simples où la méthode des départs exploratoires est faisable. Il est aussi bien adapté aux situations où il est possible de simuler l'environnement pour générer des épisodes avec des conditions de départ arbitraires.\n"
   ]
  },
  {
   "cell_type": "code",
   "execution_count": null,
   "metadata": {},
   "outputs": [
    {
     "name": "stderr",
     "output_type": "stream",
     "text": [
      "100%|██████████| 10000/10000 [00:03<00:00, 2888.41it/s]"
     ]
    },
    {
     "name": "stdout",
     "output_type": "stream",
     "text": [
      "↓ ↓ ↓ ↓ →\n",
      "↓ → ↓ → →\n",
      "↓ ↓ → → →\n",
      "↓ ← ↓ ↓ →\n",
      "← ← ↓\n"
     ]
    },
    {
     "name": "stderr",
     "output_type": "stream",
     "text": [
      "\n"
     ]
    }
   ],
   "source": [
    "from tqdm import tqdm\n",
    "\n",
    "def naive_monte_carlo_with_exploring_starts(env_type, gamma=0.999, nb_iter=10000, max_steps=10):\n",
    "    Pi = {}\n",
    "    Q = {}\n",
    "    Returns = {}\n",
    "\n",
    "    for it in tqdm(range(nb_iter)):\n",
    "        env = env_type.from_random_state()  # Assurez-vous que cette méthode initialise correctement\n",
    "\n",
    "        is_first_action = True\n",
    "        trajectory = []\n",
    "        steps_count = 0\n",
    "        while not env.is_game_over() and steps_count < max_steps:\n",
    "            s = env.state_id()\n",
    "            aa = env.available_actions()\n",
    "\n",
    "            if s not in Pi:\n",
    "                Pi[s] = np.random.choice(aa)\n",
    "\n",
    "            if is_first_action:\n",
    "                a = np.random.choice(aa)\n",
    "                is_first_action = False\n",
    "            else:\n",
    "                a = Pi[s]\n",
    "\n",
    "            prev_score = env.score()\n",
    "            env.step(a)\n",
    "            r = env.score() - prev_score\n",
    "\n",
    "            trajectory.append((s, a, r, aa))\n",
    "            steps_count += 1\n",
    "\n",
    "        G = 0\n",
    "        for (t, (s, a, r, aa)) in reversed(list(enumerate(trajectory))):\n",
    "            G = gamma * G + r\n",
    "\n",
    "            if all(map(lambda triplet: triplet[0] != s or triplet[1] != a, trajectory[:t])):\n",
    "                if (s, a) not in Returns:\n",
    "                    Returns[(s, a)] = []\n",
    "                Returns[(s, a)].append(G)\n",
    "                Q[(s, a)] = np.mean(Returns[(s, a)])\n",
    "\n",
    "                best_a = None\n",
    "                best_a_score = 0.0\n",
    "                for a in aa:\n",
    "                    if (s, a) not in Q:\n",
    "                        Q[(s, a)] = np.random.random()\n",
    "                    if best_a is None or Q[(s, a)] > best_a_score:\n",
    "                        best_a = a\n",
    "                        best_a_score = Q[(s, a)]\n",
    "\n",
    "                Pi[s] = best_a\n",
    "\n",
    "    return Pi\n",
    "  \n",
    "Pi = naive_monte_carlo_with_exploring_starts(GridWorld, nb_iter=10000)\n",
    "Pi\n",
    "print_policy(Pi, grid_size=(5, 5))"
   ]
  },
  {
   "cell_type": "code",
   "execution_count": null,
   "metadata": {},
   "outputs": [],
   "source": [
    "import numpy as np\n",
    "import matplotlib.pyplot as plt\n",
    "\n",
    "def print_policy(policy, grid_size):\n",
    "    policy_arrows = {\n",
    "        0: '←',  # Gauche\n",
    "        1: '→',  # Droite\n",
    "        2: '↑',  # Haut\n",
    "        3: '↓'   # Bas\n",
    "    }\n",
    "\n",
    "    grid = np.full(grid_size, ' ')\n",
    "    for (state, action) in policy.items():\n",
    "        row, col = state\n",
    "        grid[row, col] = policy_arrows[action]\n",
    "\n",
    "    for row in grid:\n",
    "        row_str = ' '.join(row).strip()\n",
    "        if row_str:\n",
    "            print(row_str)\n",
    "\n",
    "\n"
   ]
  },
  {
   "cell_type": "markdown",
   "metadata": {},
   "source": [
    "# Algorithme On-policy First visit Monte Carlo control"
   ]
  },
  {
   "cell_type": "code",
   "execution_count": null,
   "metadata": {},
   "outputs": [
    {
     "name": "stderr",
     "output_type": "stream",
     "text": [
      "  0%|          | 0/10000 [00:00<?, ?it/s]"
     ]
    },
    {
     "name": "stderr",
     "output_type": "stream",
     "text": [
      "100%|██████████| 10000/10000 [00:02<00:00, 4198.35it/s]"
     ]
    },
    {
     "name": "stdout",
     "output_type": "stream",
     "text": [
      "{(1, 3): 3, (1, 2): 3, (2, 3): 1, (0, 2): 2, (0, 3): 3, (0, 4): 1, (3, 3): 1, (3, 2): 3, (2, 2): 3, (3, 1): 3, (3, 0): 0, (4, 1): 3, (2, 0): 3, (4, 2): 3, (1, 0): 3, (0, 0): 3, (1, 1): 1, (1, 4): 1, (2, 4): 1, (3, 4): 1, (0, 1): 1, (2, 1): 3, (4, 3): 3}\n",
      "↓ → ↑ ↓ →\n",
      "↓ → ↓ ↓ →\n",
      "↓ ↓ ↓ → →\n",
      "← ↓ ↓ → →\n",
      "↓ ↓ ↓\n"
     ]
    },
    {
     "name": "stderr",
     "output_type": "stream",
     "text": [
      "\n"
     ]
    }
   ],
   "source": [
    "import random\n",
    "from collections import defaultdict\n",
    "\n",
    "def on_policy_first_visit_mc_control(env_type, gamma=0.999, epsilon=0.1, nb_iter=10000, max_steps=10):\n",
    "    Pi = {}\n",
    "    Q = defaultdict(lambda: 0.0)\n",
    "    Returns = defaultdict(list)\n",
    "\n",
    "    for it in tqdm(range(nb_iter)):\n",
    "        env = env_type.from_random_state()\n",
    "        trajectory = []\n",
    "        steps_count = 0\n",
    "\n",
    "        while not env.is_game_over() and steps_count < max_steps:\n",
    "            s = env.state_id()\n",
    "            aa = env.available_actions()\n",
    "\n",
    "            if np.random.random() < epsilon or s not in Pi:\n",
    "                a = np.random.choice(aa)\n",
    "            else:\n",
    "                a = Pi[s]\n",
    "\n",
    "            prev_score = env.score()\n",
    "            env.step(a)\n",
    "            r = env.score() - prev_score\n",
    "\n",
    "            trajectory.append((s, a, r, aa))\n",
    "            steps_count += 1\n",
    "\n",
    "        G = 0\n",
    "        visited_state_action_pairs = set()\n",
    "        for (s, a, r, aa) in reversed(trajectory):\n",
    "            G = gamma * G + r\n",
    "\n",
    "            if (s, a) not in visited_state_action_pairs:\n",
    "                visited_state_action_pairs.add((s, a))\n",
    "                Returns[(s, a)].append(G)\n",
    "                Q[(s, a)] = np.mean(Returns[(s, a)])\n",
    "\n",
    "                best_a = max(aa, key=lambda action: Q[(s, action)])\n",
    "                Pi[s] = best_a\n",
    "\n",
    "    return Pi\n",
    "\n",
    "pi = on_policy_first_visit_mc_control(GridWorld, nb_iter=10000)\n",
    "print(pi)\n",
    "print_policy(pi, grid_size)"
   ]
  },
  {
   "cell_type": "markdown",
   "metadata": {},
   "source": [
    "# Off Policy First visit Monte Carlo Control"
   ]
  },
  {
   "cell_type": "code",
   "execution_count": null,
   "metadata": {},
   "outputs": [
    {
     "name": "stderr",
     "output_type": "stream",
     "text": [
      "100%|██████████| 10000/10000 [00:00<00:00, 19510.89it/s]\n"
     ]
    },
    {
     "data": {
      "text/plain": [
       "{(3, 4): 0,\n",
       " (0, 2): 1,\n",
       " (3, 0): 0,\n",
       " (1, 2): 0,\n",
       " (3, 1): 0,\n",
       " (2, 2): 0,\n",
       " (0, 4): 1,\n",
       " (2, 1): 0,\n",
       " (3, 2): 0,\n",
       " (2, 4): 0,\n",
       " (1, 0): 0,\n",
       " (4, 1): 0,\n",
       " (4, 3): 0,\n",
       " (1, 3): 0,\n",
       " (0, 1): 0,\n",
       " (2, 0): 0,\n",
       " (3, 3): 0,\n",
       " (0, 3): 1,\n",
       " (1, 1): 0,\n",
       " (0, 0): 0,\n",
       " (2, 3): 0,\n",
       " (4, 2): 0,\n",
       " (1, 4): 0}"
      ]
     },
     "execution_count": 41,
     "metadata": {},
     "output_type": "execute_result"
    }
   ],
   "source": [
    "def off_policy_mc_control(env_type, gamma=0.999, nb_iter=100000, max_steps=10):\n",
    "    Q = defaultdict(lambda: 0.0)\n",
    "    C = defaultdict(lambda: 0.0)\n",
    "    b = defaultdict(lambda: 1.0)  # behavior policy (random)\n",
    "\n",
    "    Pi = {}\n",
    "\n",
    "    for it in tqdm(range(nb_iter)):\n",
    "        env = env_type.from_random_state()\n",
    "        trajectory = []\n",
    "        steps_count = 0\n",
    "\n",
    "        while not env.is_game_over() and steps_count < max_steps:\n",
    "            s = env.state_id()\n",
    "            aa = env.available_actions()\n",
    "\n",
    "            a = np.random.choice(aa)\n",
    "            prev_score = env.score()\n",
    "            env.step(a)\n",
    "            r = env.score() - prev_score\n",
    "\n",
    "            trajectory.append((s, a, r))\n",
    "            steps_count += 1\n",
    "\n",
    "        G = 0\n",
    "        W = 1.0\n",
    "        for (s, a, r) in reversed(trajectory):\n",
    "            G = gamma * G + r\n",
    "            C[(s, a)] += W\n",
    "            Q[(s, a)] += (W / C[(s, a)]) * (G - Q[(s, a)])\n",
    "            \n",
    "            Pi[s] = max(env.available_actions(), key=lambda action: Q[(s, action)])\n",
    "            \n",
    "            if a != Pi[s]:\n",
    "                break\n",
    "            \n",
    "            W *= 1.0 / b[(s, a)]\n",
    "\n",
    "    return Pi\n",
    "\n",
    "pi = off_policy_mc_control(GridWorld, nb_iter=10000)\n",
    "pi"
   ]
  },
  {
   "cell_type": "code",
   "execution_count": null,
   "metadata": {},
   "outputs": [
    {
     "name": "stdout",
     "output_type": "stream",
     "text": [
      "← ← → → →\n",
      "← ← ← ← ←\n",
      "← ← ← ← ←\n",
      "← ← ← ← ←\n",
      "← ← ←\n"
     ]
    }
   ],
   "source": [
    "print_policy(pi, grid_size)"
   ]
  },
  {
   "cell_type": "markdown",
   "metadata": {},
   "source": [
    "# Sarsa"
   ]
  },
  {
   "cell_type": "code",
   "execution_count": null,
   "metadata": {},
   "outputs": [
    {
     "name": "stdout",
     "output_type": "stream",
     "text": [
      "→ ↓ ↓ ↓ ↓ \n",
      "→ → → ↓ ↓ \n",
      "→ → → → ↓ \n",
      "→ → ↓ → ↓ \n",
      "→ → → → → \n"
     ]
    }
   ],
   "source": [
    "import numpy as np\n",
    "import tensorflow as tf\n",
    "from tensorflow.keras.models import Sequential\n",
    "from tensorflow.keras.layers import Dense\n",
    "from tensorflow.keras.optimizers import Adam\n",
    "import random\n",
    "\n",
    "\n",
    "def build_model(state_size, action_size):\n",
    "    model = Sequential()\n",
    "    model.add(Dense(24, input_dim=state_size, activation='relu'))\n",
    "    model.add(Dense(24, activation='relu'))\n",
    "    model.add(Dense(action_size, activation='linear'))\n",
    "    model.compile(loss='mse', optimizer=Adam(learning_rate=0.001))\n",
    "    return model\n",
    "\n",
    "def sarsa(env, num_episodes, alpha, gamma, epsilon):\n",
    "    state_size = env.length()[0] * env.length()[1]\n",
    "    action_size = 4  # 4 possible actions: left, right, up, down\n",
    "    model = build_model(state_size, action_size)\n",
    "\n",
    "    for episode in range(num_episodes):\n",
    "        env.reset()\n",
    "        state = env.state_id()\n",
    "        state_index = state[0] * 5 + state[1]\n",
    "        done = False\n",
    "\n",
    "        state_one_hot = np.eye(state_size)[state_index:state_index + 1]\n",
    "        if state_one_hot.shape[0] == 0 or state_one_hot.shape[1] == 0:\n",
    "            continue  # Skip invalid state\n",
    "\n",
    "        action = np.random.choice(env.available_actions()) if np.random.rand() < epsilon else np.argmax(model.predict(state_one_hot)[0])\n",
    "\n",
    "        while not done:\n",
    "            env.step(action)\n",
    "            reward = env.score()\n",
    "            next_state = env.state_id()\n",
    "            next_state_index = next_state[0] * 5 + next_state[1]\n",
    "            next_state_one_hot = np.eye(state_size)[next_state_index:next_state_index + 1]\n",
    "            if next_state_one_hot.shape[0] == 0 or next_state_one_hot.shape[1] == 0:\n",
    "                break  # Break on invalid next state\n",
    "\n",
    "            done = env.is_game_over()\n",
    "\n",
    "            next_action = np.random.choice(env.available_actions()) if np.random.rand() < epsilon else np.argmax(model.predict(next_state_one_hot)[0])\n",
    "\n",
    "            target = reward + gamma * model.predict(next_state_one_hot)[0][next_action] if not done else reward\n",
    "            target_f = model.predict(state_one_hot)\n",
    "            target_f[0][action] = (1 - alpha) * target_f[0][action] + alpha * target\n",
    "\n",
    "            model.fit(state_one_hot, target_f, epochs=1, verbose=0)\n",
    "\n",
    "            state = next_state\n",
    "            state_one_hot = next_state_one_hot\n",
    "            action = next_action\n",
    "\n",
    "    return model\n",
    "\n",
    "# Parameters for SARSA\n",
    "alpha = 0.1  # Learning rate\n",
    "gamma = 0.99  # Discount factor\n",
    "epsilon = 0.1  # Exploration rate\n",
    "num_episodes = 100  # Number of episodes\n",
    "\n",
    "# Create the environment and run the SARSA algorithm\n",
    "env = GridWorld()\n",
    "model = sarsa(env, num_episodes, alpha, gamma, epsilon)\n",
    "\n",
    "# Display the optimal policy found\n",
    "action_symbols = ['←', '→', '↑', '↓']\n",
    "state_size = env.length()[0] * env.length()[1]\n",
    "Q = np.zeros((state_size, 4))\n",
    "\n",
    "# Populate Q with the trained model predictions\n",
    "for row in range(5):\n",
    "    for col in range(5):\n",
    "        state_index = col * 5 + row\n",
    "        state_one_hot = np.eye(state_size)[state_index:state_index + 1]\n",
    "        if state_one_hot.shape[0] > 0 and state_one_hot.shape[1] > 0:\n",
    "            Q[state_index] = model.predict(state_one_hot)[0]\n",
    "\n",
    "# Display the optimal policy\n",
    "for row in range(5):\n",
    "    for col in range(5):\n",
    "        state_index = col * 5 + row\n",
    "        best_action = np.argmax(Q[state_index])\n",
    "        print(action_symbols[best_action], end=' ')\n",
    "    print()"
   ]
  },
  {
   "cell_type": "markdown",
   "metadata": {},
   "source": [
    "# Dyna Q"
   ]
  },
  {
   "cell_type": "code",
   "execution_count": null,
   "metadata": {},
   "outputs": [
    {
     "name": "stdout",
     "output_type": "stream",
     "text": [
      "State (0, 0): [0.0, 0.931059913862281, 0.0, 0.9310366269424992]\n",
      "State (1, 0): [0.9218036100923427, 0.9397446128233896, 0.0, 0.940499310445153]\n",
      "State (2, 0): [0.9311609581682809, 0.9303040261739055, 0.0, 0.9496485300420853]\n",
      "State (3, 0): [0.9398746894942853, -2.9999999999999982, 0.0, 0.0]\n",
      "State (4, 0): [0.0, 0.0, 0.0, 0.0]\n",
      "State (0, 1): [0.0, 0.9389680330708551, 0.9217070424586967, 0.9404006093504554]\n",
      "State (1, 1): [0.9310484581168663, 0.9484422293298809, 0.9311055233378549, 0.9500344715138693]\n",
      "State (2, 1): [0.9386997916831397, 0.9585865506809266, 0.939894500987736, 0.9597562498394303]\n",
      "State (3, 1): [0.9498898832987382, 0.9495242006439963, 0.9302825067228799, 0.9686290137170361]\n",
      "State (4, 1): [0.9588006470972541, 0.0, 0.0, 0.0]\n",
      "State (0, 2): [0.0, 0.9500669977354078, 0.9310745825244134, 0.9497432172069944]\n",
      "State (1, 2): [0.9405246036035648, 0.9599906967491133, 0.9405560215782118, 0.9592732827442808]\n",
      "State (2, 2): [0.9500114061720808, 0.9690269055403714, 0.9499484292560781, 0.970063246205193]\n",
      "State (3, 2): [0.9596996050771898, 0.959457276659895, 0.9589650847472072, 0.9794923394585271]\n",
      "State (4, 2): [0.9690665208696115, 0.0, 0.9492929444129011, 0.0]\n",
      "State (0, 3): [0.0, 0.9591597243366325, 0.9404984139274961, 0.9595840122454045]\n",
      "State (1, 3): [0.9498406307059126, 0.969050063304263, 0.9500218782192072, 0.9689120341917559]\n",
      "State (2, 3): [0.9593158985399024, 0.9797990054283526, 0.9597991000697371, 0.9797799899738158]\n",
      "State (3, 3): [0.9701896393749349, 0.9892601632878755, 0.9692504761819483, 0.9899598057575827]\n",
      "State (4, 3): [0.9799621635786379, 0.0, 0.9593827828012499, 0.9999999999999996]\n",
      "State (0, 4): [0.0, 0.9700120086538333, 0.9497263210912437, 0.0]\n",
      "State (1, 4): [0.959990485136152, 0.9798964697456967, 0.9593879077466205, 0.0]\n",
      "State (2, 4): [0.9698766953963321, 0.988696401119595, 0.97025395920279, 0.0]\n",
      "State (3, 4): [0.9795395372700078, 0.9999999999999996, 0.9799642937050663, 0.0]\n",
      "State (4, 4): [0.0, 0.0, 0.0, 0.0]\n",
      "→ ↓ ↓ ← ← \n",
      "↓ ↓ ↓ ↓ ← \n",
      "→ → ↓ ↓ ← \n",
      "↓ → → ↓ ↓ \n",
      "→ → → → ← \n"
     ]
    }
   ],
   "source": [
    "def epsilon_greedy_policy(Q, state, epsilon, available_actions):\n",
    "    if not available_actions:\n",
    "        return random.choice([0, 1, 2, 3])\n",
    "    if random.uniform(0, 1) < epsilon:\n",
    "        return random.choice(available_actions)\n",
    "    else:\n",
    "        if available_actions:\n",
    "            return max(available_actions, key=lambda x: Q[state][x])\n",
    "        else:\n",
    "            return random.choice([0, 1, 2, 3])\n",
    "\n",
    "def dyna_q(env, num_episodes, alpha, gamma, epsilon, planning_steps):\n",
    "    Q = {}\n",
    "    model = {}\n",
    "\n",
    "    for row in range(5):\n",
    "        for col in range(5):\n",
    "            Q[(col, row)] = [0.0, 0.0, 0.0, 0.0]\n",
    "            model[(col, row)] = {}\n",
    "\n",
    "    for episode in range(num_episodes):\n",
    "        env.reset()\n",
    "        state = env.state_id()\n",
    "        available_actions = env.available_actions()\n",
    "        action = epsilon_greedy_policy(Q, state, epsilon, available_actions)\n",
    "\n",
    "        while not env.is_game_over():\n",
    "            env.step(action)\n",
    "            reward = env.score()\n",
    "            next_state = env.state_id()\n",
    "            next_available_actions = env.available_actions()\n",
    "            next_action = epsilon_greedy_policy(Q, next_state, epsilon, next_available_actions)\n",
    "\n",
    "            # Mise à jour de Q\n",
    "            Q[state][action] += alpha * (reward + gamma * Q[next_state][next_action] - Q[state][action])\n",
    "\n",
    "            # Mise à jour du modèle\n",
    "            if action not in model[state]:\n",
    "                model[state][action] = (reward, next_state)\n",
    "            else:\n",
    "                model[state][action] = (reward, next_state)\n",
    "\n",
    "            # Planification\n",
    "            for _ in range(planning_steps):\n",
    "                sampled_state = random.choice(list(model.keys()))\n",
    "                if not model[sampled_state]:\n",
    "                    continue\n",
    "                sampled_action = random.choice(list(model[sampled_state].keys()))\n",
    "                sampled_reward, sampled_next_state = model[sampled_state][sampled_action]\n",
    "\n",
    "                Q[sampled_state][sampled_action] += alpha * (sampled_reward + gamma * max(Q[sampled_next_state]) - Q[sampled_state][sampled_action])\n",
    "\n",
    "            state = next_state\n",
    "            action = next_action\n",
    "\n",
    "    return Q\n",
    "\n",
    "# Paramètres\n",
    "alpha = 0.1  # Taux d'apprentissage\n",
    "gamma = 0.99  # Facteur de réduction\n",
    "epsilon = 0.1  # Taux d'exploration\n",
    "num_episodes = 1000  # Nombre d'épisodes\n",
    "planning_steps = 5  # Nombre d'étapes de planification\n",
    "\n",
    "# Création de l'environnement et exécution de l'algorithme Dyna-Q\n",
    "env = GridWorld()\n",
    "Q = dyna_q(env, num_episodes, alpha, gamma, epsilon, planning_steps)\n",
    "for state, actions in Q.items():\n",
    "    print(f\"State {state}: {actions}\")\n",
    "\n",
    "# Affichage de la politique optimale trouvée\n",
    "for row in range(5):\n",
    "    for col in range(5):\n",
    "        state = (col, row)\n",
    "        best_action = np.argmax(Q[state])\n",
    "        action_symbols = ['←', '→', '↑', '↓']\n",
    "        print(action_symbols[best_action], end=' ')\n",
    "    print()"
   ]
  }
 ],
 "metadata": {
  "kernelspec": {
   "display_name": "FrameworkML",
   "language": "python",
   "name": "python3"
  },
  "language_info": {
   "codemirror_mode": {
    "name": "ipython",
    "version": 3
   },
   "file_extension": ".py",
   "mimetype": "text/x-python",
   "name": "python",
   "nbconvert_exporter": "python",
   "pygments_lexer": "ipython3",
   "version": "3.8.19"
  }
 },
 "nbformat": 4,
 "nbformat_minor": 2
}
