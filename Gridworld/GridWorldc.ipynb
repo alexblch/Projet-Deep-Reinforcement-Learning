{
 "cells": [
  {
   "cell_type": "code",
   "execution_count": 13,
   "metadata": {},
   "outputs": [],
   "source": [
    "import lib\n",
    "from grid import GridWorldC"
   ]
  },
  {
   "cell_type": "code",
   "execution_count": 14,
   "metadata": {},
   "outputs": [],
   "source": [
    "env = GridWorldC()"
   ]
  },
  {
   "cell_type": "markdown",
   "metadata": {},
   "source": [
    "# QLearning"
   ]
  },
  {
   "cell_type": "code",
   "execution_count": 15,
   "metadata": {},
   "outputs": [
    {
     "name": "stdout",
     "output_type": "stream",
     "text": [
      "[[-1.00000000e+004              nan              nan              nan]\n",
      " [ 9.99800000e+007              nan              nan              nan]\n",
      " [ 9.99800000e+007              nan              nan              nan]\n",
      " [             nan              nan              nan              nan]\n",
      " [ 3.97994833e+232              nan              nan              nan]\n",
      " [             nan              nan  3.16053226e+233              nan]\n",
      " [             nan              nan              nan              nan]\n",
      " [             nan              nan              nan              nan]\n",
      " [             nan              nan              nan              nan]\n",
      " [             nan              nan              nan  5.51718906e-313]\n",
      " [             nan              nan  2.07140777e-316              nan]\n",
      " [             nan              nan              nan              nan]\n",
      " [             nan              nan              nan              nan]\n",
      " [             nan              nan              nan              nan]\n",
      " [             nan              nan              nan  0.00000000e+000]\n",
      " [             nan  1.47564640e+001  3.47911400e-308              nan]\n",
      " [             nan              nan              nan              nan]\n",
      " [             nan              nan              nan              nan]\n",
      " [             nan              nan              nan              nan]\n",
      " [             nan  9.99999956e-001              nan  0.00000000e+000]\n",
      " [ 1.44932313e-311  6.66310042e-191  1.70156208e-320  4.60063110e-287]\n",
      " [             nan  1.25990589e-300 -3.00000000e+000              nan]\n",
      " [             nan  0.00000000e+000              nan              nan]\n",
      " [             nan  0.00000000e+000              nan  1.00044396e+000]\n",
      " [ 0.00000000e+000  1.92246382e-305  0.00000000e+000  9.06092203e-312]]\n",
      "Episode 1: Total Reward: 1, Exploration Rate: 0.995\n",
      "Episode 2: Total Reward: 1, Exploration Rate: 0.990025\n",
      "Episode 3: Total Reward: -3, Exploration Rate: 0.985075\n",
      "Episode 4: Total Reward: -3, Exploration Rate: 0.98015\n",
      "Episode 5: Total Reward: 1, Exploration Rate: 0.975249\n",
      "Episode 6: Total Reward: -3, Exploration Rate: 0.970373\n",
      "Episode 7: Total Reward: -3, Exploration Rate: 0.965521\n",
      "Episode 8: Total Reward: 1, Exploration Rate: 0.960693\n",
      "Episode 9: Total Reward: 0, Exploration Rate: 0.95589\n",
      "Episode 10: Total Reward: -3, Exploration Rate: 0.95111\n"
     ]
    }
   ],
   "source": [
    "q_learning = lib.QLearning(env, 10000)\n",
    "q_table = q_learning.run()\n",
    "print(q_table)"
   ]
  },
  {
   "cell_type": "code",
   "execution_count": 16,
   "metadata": {},
   "outputs": [
    {
     "name": "stdout",
     "output_type": "stream",
     "text": [
      "{23: -0.031852281251228125, 5: -1.0417464120551023, 10: -1.335939272619079, 15: -1.9095061337784358, 11: -1.0859057010297477, 7: -0.7104267215149686, 12: -0.7534296621130414, 6: -0.9185145721751748, 0: -0.9314052905225614, 1: -0.8440070196179632, 21: -1.7537067493355611, 8: -0.531078499163581, 16: -1.3808636509992525, 3: -0.5467024921526988, 22: -0.8753118338929045, 9: -0.398461075376411, 17: -0.8028216706193085, 4: -0.4535991675451034, 13: -0.4417464788269786, 18: -0.2940069546911535, 19: 0.15067887210950826, 14: -0.23471058421091864, 2: -0.6967933463450325}\n"
     ]
    }
   ],
   "source": [
    "monte_carlo_es = lib.MonteCarloES(env, 10000)\n",
    "value_table = monte_carlo_es.run()\n",
    "print(value_table)"
   ]
  },
  {
   "cell_type": "code",
   "execution_count": 17,
   "metadata": {},
   "outputs": [
    {
     "name": "stdout",
     "output_type": "stream",
     "text": [
      "{23: {3: 1.0}, 21: {2: -3.0}, 19: {1: 1.0}, 15: {1: -3.0}}\n"
     ]
    }
   ],
   "source": [
    "mcoffpolicy = lib.OffPolicyMonteCarloControl(env, 10000)\n",
    "value_table = mcoffpolicy.run()\n",
    "print(value_table)"
   ]
  },
  {
   "cell_type": "code",
   "execution_count": 18,
   "metadata": {},
   "outputs": [
    {
     "name": "stdout",
     "output_type": "stream",
     "text": [
      "{21: {0: -8.4e-323}, 1: {1: 2.3179417043577574e-64, 3: 2.668146836144265e-64, 2: 1.3322260498969315e-63}, 5: {0: 2.138868574520356e-64, 3: 6.447497641292411e-62, 1: 8.638353019040836e-63}, 0: {1: 2.1174799091729927e-64, 3: 2.2947623094197945e-64}, 2: {1: 2.69509778832506e-64, 2: 9.185023596483926e-64, 3: 2.9800430627487543e-64}, 4: {1: 3.2951148170976384e-64, 2: 4.110514446144843e-64}, 8: {1: 5.231803307645037e-64, 0: 3.040549949326401e-64, 3: 3.6032404322693053e-63, 2: 6.932116331459125e-64}, 6: {0: 2.3413552343725796e-64, 2: 9.84403987010857e-63, 1: 1.5947177292223323e-62, 3: 1.0362341267107532e-63}, 3: {1: 3.0101444788300803e-64, 3: 3.2621637003513255e-64, 2: 5.020323259463448e-63}, 9: {0: 3.328398773086418e-64, 2: 4.7265349655473156e-63, 1: 1.1579526945678265e-54}, 15: {0: 6.186587672637389e-42, 3: 5.685152316635044e-24, 1: -3.0}, 17: {2: 5.540004008618357e-47, 0: 8.301974198045625e-220, 3: -2.3754921891258963e-111, 1: -2.608432228861575e-108}, 22: {0: -5.131249074947899e-130}, 23: {0: 2.47e-322, 2: -1.5239809899401474e-129}, 10: {0: 8.725609026087821e-63, 3: 3.4343194022186375e-288, 1: 6.124721854910912e-42}, 18: {3: 2.47e-322, 2: 2.47e-322, 0: 1.8046048360086355e-08, 1: -5.029137315248537e-130}, 16: {1: -8.4e-323, 2: 1.0221583149011443e-279, 0: 8.4e-323, 3: -1.8092065848403679e-265}, 11: {0: 1.6108259735962615e-62, 3: 8.4e-323, 1: 8.4e-323, 2: 1.0479332460314576e-287}, 12: {0: 1.6786816746940236e-63, 1: 8.218954535238964e-220, 3: 2.8608997058084144e-35, 2: 1.1023183527863424e-36}, 19: {1: 1.0, 0: 3.1600221324043427e-34, 2: 4.4008184264449345e-231}, 14: {0: 1.169649175164831e-54, 2: 1.4582115835666556e-25, 1: 3.1284219412166187e-34}, 13: {0: 5.284649754794636e-64, 3: 2.1064289034165616e-263, 1: 1.786558804858602e-08, 2: 6.865632700135497e-17}, 7: {0: 2.722320972083822e-64, 2: 1.9914525830031544e-63, 3: 3.544584349617566e-57, 1: 1.6618948739562394e-63}}\n"
     ]
    }
   ],
   "source": [
    "onpolicy_mc_control = lib.onPolicyMonteCarloControl(env, 10)\n",
    "q_table = onpolicy_mc_control.run()\n",
    "print(q_table)"
   ]
  },
  {
   "cell_type": "code",
   "execution_count": 19,
   "metadata": {},
   "outputs": [
    {
     "name": "stdout",
     "output_type": "stream",
     "text": [
      "Episode 1: Total Reward: 1, Exploration Rate: 0.995\n",
      "Episode 2: Total Reward: 1, Exploration Rate: 0.990025\n",
      "Episode 3: Total Reward: -3, Exploration Rate: 0.985075\n",
      "Episode 4: Total Reward: -2, Exploration Rate: 0.98015\n",
      "Episode 5: Total Reward: -7, Exploration Rate: 0.975249\n",
      "Episode 6: Total Reward: -3, Exploration Rate: 0.970373\n",
      "Episode 7: Total Reward: -6, Exploration Rate: 0.965521\n",
      "Episode 8: Total Reward: 1, Exploration Rate: 0.960693\n",
      "Episode 9: Total Reward: [[-1.00000000e+000              nan              nan              nan]\n",
      " [-1.00000000e+000              nan              nan              nan]\n",
      " [ 9.99800000e+007              nan              nan              nan]\n",
      " [             nan              nan              nan              nan]\n",
      " [ 3.97994833e+232              nan              nan              nan]\n",
      " [             nan              nan  3.16053226e+233              nan]\n",
      " [             nan              nan              nan              nan]\n",
      " [             nan              nan              nan              nan]\n",
      " [             nan              nan              nan              nan]\n",
      " [             nan              nan              nan  5.51718906e-313]\n",
      " [             nan              nan  2.07140777e-316              nan]\n",
      " [             nan              nan              nan              nan]\n",
      " [             nan              nan              nan              nan]\n",
      " [             nan              nan              nan              nan]\n",
      " [             nan              nan              nan  0.00000000e+000]\n",
      " [             nan -3.00000000e+000  3.47911400e-308              nan]\n",
      " [             nan              nan              nan              nan]\n",
      " [             nan              nan              nan              nan]\n",
      " [             nan              nan              nan              nan]\n",
      " [             nan  1.00000000e+000              nan  0.00000000e+000]\n",
      " [ 1.44932313e-311  6.66310042e-191  1.70156208e-320  4.60063110e-287]\n",
      " [             nan  1.25990589e-300 -3.00000000e+000              nan]\n",
      " [             nan  0.00000000e+000              nan              nan]\n",
      " [             nan  0.00000000e+000              nan  1.00000000e+000]\n",
      " [ 0.00000000e+000  1.92246382e-305  0.00000000e+000  9.06092203e-312]]\n",
      "0, Exploration Rate: 0.95589\n",
      "Episode 10: Total Reward: -1, Exploration Rate: 0.95111\n"
     ]
    }
   ],
   "source": [
    "dyna_Q = lib.DynaQ(env, 10000)\n",
    "q_table = dyna_Q.run()\n",
    "print(q_table)"
   ]
  },
  {
   "cell_type": "code",
   "execution_count": 20,
   "metadata": {},
   "outputs": [
    {
     "name": "stdout",
     "output_type": "stream",
     "text": [
      "[[-1.00000000e+004  1.76823690e+174  2.07352237e-316 -1.11796641e+154]\n",
      " [-1.00000000e+004  8.41478458e+145  6.11438425e+169 -8.58678553e+133]\n",
      " [ 0.00000000e+000 -8.50148259e+137  5.59067620e+149 -8.33088251e+145]\n",
      " [ 0.00000000e+000  8.41419134e+145  1.75208058e+130 -8.41843380e+133]\n",
      " [ 0.00000000e+000 -8.00016322e+161 -1.54670500e+089  0.00000000e+000]\n",
      " [-5.87413884e+173 -1.18669837e+174  0.00000000e+000  7.05574090e+152]\n",
      " [-6.05384580e+169  1.70012649e+142 -6.36056281e+145  8.16508145e+149]\n",
      " [-8.75967387e+133  8.58649742e+137 -1.68320769e+142 -8.24673218e+149]\n",
      " [-8.33003251e+145  7.27656316e+124  8.67294440e+133 -8.50176788e+137]\n",
      " [ 7.92014550e+161 -2.00043092e+117  1.70043775e+138  0.00000000e+000]\n",
      " [-5.93348592e+169 -1.98017299e+113  0.00000000e+000 -5.64537597e+153]\n",
      " [-6.21225881e+157              nan  5.58891080e+153  8.58649742e+137]\n",
      " [-8.67236239e+137              nan -5.64764621e+145  3.09367409e+093]\n",
      " [-1.56227938e+093              nan -7.34959370e+124  1.00021344e+113]\n",
      " [-3.04703109e+097  3.09337085e+093  1.01021761e+117  0.00000000e+000]\n",
      " [-5.70583425e+133 -2.99730108e+036  0.00000000e+000  7.20551285e+128]\n",
      " [ 3.46667548e+109 -2.96910909e+016 -7.27756798e+128              nan]\n",
      " [ 8.58649742e+137              nan -7.20623347e+124  5.20908245e+080]\n",
      " [-1.01082195e+097              nan              nan              nan]\n",
      " [ 2.28138786e+097              nan  3.12492646e+089  0.00000000e+000]\n",
      " [ 0.00000000e+000  0.00000000e+000  0.00000000e+000  0.00000000e+000]\n",
      " [-5.53397717e+052  0.00000000e+000 -2.99850030e+020 -2.93971197e+020]\n",
      " [             nan  0.00000000e+000 -2.73918171e+056              nan]\n",
      " [-3.06304673e+093  0.00000000e+000  2.71206110e+056              nan]\n",
      " [             nan              nan  4.24399158e-314  8.46334451e-321]]\n",
      "Episode 1: Total Reward: -3, Exploration Rate: 0.995\n",
      "Episode 2: Total Reward: -3, Exploration Rate: 0.990025\n",
      "Episode 3: Total Reward: 1, Exploration Rate: 0.985075\n",
      "Episode 4: Total Reward: 1, Exploration Rate: 0.98015\n",
      "Episode 5: Total Reward: -3, Exploration Rate: 0.975249\n",
      "Episode 6: Total Reward: 1, Exploration Rate: 0.970373\n",
      "Episode 7: Total Reward: -5, Exploration Rate: 0.965521\n",
      "Episode 8: Total Reward: -3, Exploration Rate: 0.960693\n",
      "Episode 9: Total Reward: -3, Exploration Rate: 0.95589\n",
      "Episode 10: Total Reward: -3, Exploration Rate: 0.95111\n"
     ]
    }
   ],
   "source": [
    "sarsa = lib.SARSA(env, 10000)\n",
    "q_table = sarsa.run()\n",
    "print(q_table)"
   ]
  },
  {
   "cell_type": "code",
   "execution_count": 23,
   "metadata": {},
   "outputs": [
    {
     "name": "stdout",
     "output_type": "stream",
     "text": [
      "[0, 0, 0, 0, 0, 0, 0, 0, 0, 0, 0, 0, 0, 0, 0, 0, 0, 0, 0, 1, 0, 0, 0, 3, 0]\n",
      "0.0 0.0 0.0 0.0 0.0 \n",
      "0.0 0.0 0.0 0.0 0.0 \n",
      "0.0 0.0 0.0 0.0 0.0 \n",
      "0.0 0.0 0.0 0.0 1.0 \n",
      "0.0 0.0 0.0 1.0 0.0 \n"
     ]
    }
   ],
   "source": [
    "policy_iteration = lib.PolicyIteration(GridWorldC)\n",
    "policy, V = policy_iteration.run()\n",
    "print(policy)\n",
    "for i in range(len(V)):\n",
    "    print(V[i], end=\" \")\n",
    "    if i % 5 == 4:\n",
    "        print()"
   ]
  },
  {
   "cell_type": "code",
   "execution_count": 22,
   "metadata": {},
   "outputs": [
    {
     "name": "stdout",
     "output_type": "stream",
     "text": [
      "0.0 0.0 0.0 0.0 0.0 \n",
      "0.0 0.0 0.0 0.0 0.0 \n",
      "0.0 0.0 0.0 0.0 0.0 \n",
      "0.0 0.0 0.0 0.0 1.0 \n",
      "0.0 0.0 0.0 1.0 0.0 \n"
     ]
    }
   ],
   "source": [
    "value_iteration = lib.ValueIteration(GridWorldC)\n",
    "value = value_iteration.run()\n",
    "for i in range(len(value)):\n",
    "    print(value[i], end=\" \")\n",
    "    if i % 5 == 4:\n",
    "        print()"
   ]
  }
 ],
 "metadata": {
  "kernelspec": {
   "display_name": "DeepLearning",
   "language": "python",
   "name": "python3"
  },
  "language_info": {
   "codemirror_mode": {
    "name": "ipython",
    "version": 3
   },
   "file_extension": ".py",
   "mimetype": "text/x-python",
   "name": "python",
   "nbconvert_exporter": "python",
   "pygments_lexer": "ipython3",
   "version": "3.11.5"
  }
 },
 "nbformat": 4,
 "nbformat_minor": 2
}
