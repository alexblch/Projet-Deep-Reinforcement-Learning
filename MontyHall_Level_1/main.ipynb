{
 "cells": [
  {
   "cell_type": "code",
   "execution_count": 1,
   "metadata": {},
   "outputs": [],
   "source": [
    "import lib\n",
    "\n",
    "from montyhall import MontyHallEnv"
   ]
  },
  {
   "cell_type": "code",
   "execution_count": 2,
   "metadata": {},
   "outputs": [],
   "source": [
    "env = MontyHallEnv()"
   ]
  },
  {
   "cell_type": "markdown",
   "metadata": {},
   "source": [
    "# QLearning"
   ]
  },
  {
   "cell_type": "code",
   "execution_count": 3,
   "metadata": {},
   "outputs": [
    {
     "name": "stdout",
     "output_type": "stream",
     "text": [
      "[[6.83017866e-306 9.99400150e+027]\n",
      " [4.40386006e-317 6.89917128e-310]\n",
      " [4.40453990e-317 6.89917125e-310]\n",
      " [4.40431460e-317 6.89917125e-310]\n",
      " [4.40376520e-317 4.40545293e-317]\n",
      " [4.40527111e-317 4.40401026e-317]\n",
      " [6.89917125e-310 4.40451223e-317]\n",
      " [4.40422765e-317 6.89917125e-310]\n",
      " [4.40633434e-317 4.40723947e-317]\n",
      " [6.89917126e-310 6.89917125e-310]\n",
      " [6.89917125e-310 6.89917125e-310]\n",
      " [4.40354386e-317 6.89916887e-310]]\n",
      "Episode 1: Total Reward: 0, Exploration Rate: 0.995\n",
      "Episode 2: Total Reward: 0, Exploration Rate: 0.990025\n",
      "Episode 3: Total Reward: 1, Exploration Rate: 0.985075\n",
      "Episode 4: Total Reward: 0, Exploration Rate: 0.98015\n",
      "Episode 5: Total Reward: 0, Exploration Rate: 0.975249\n",
      "Episode 6: Total Reward: 0, Exploration Rate: 0.970373\n",
      "Episode 7: Total Reward: 0, Exploration Rate: 0.965521\n",
      "Episode 8: Total Reward: 0, Exploration Rate: 0.960693\n",
      "Episode 9: Total Reward: 1, Exploration Rate: 0.95589\n",
      "Episode 10: Total Reward: 0, Exploration Rate: 0.95111\n"
     ]
    }
   ],
   "source": [
    "q_learning = lib.QLearning(env, 10000)\n",
    "q_table = q_learning.run()\n",
    "print(q_table)"
   ]
  },
  {
   "cell_type": "code",
   "execution_count": 4,
   "metadata": {},
   "outputs": [
    {
     "name": "stdout",
     "output_type": "stream",
     "text": [
      "{0: 0.3368}\n"
     ]
    }
   ],
   "source": [
    "monte_carlo_es = lib.MonteCarloES(env, 10000)\n",
    "value_table = monte_carlo_es.run()\n",
    "print(value_table)"
   ]
  },
  {
   "cell_type": "code",
   "execution_count": 5,
   "metadata": {},
   "outputs": [
    {
     "name": "stdout",
     "output_type": "stream",
     "text": [
      "{0: {0: 0.34209486166007996, 1: 0.3295546558704454}}\n"
     ]
    }
   ],
   "source": [
    "mcoffpolicy = lib.OffPolicyMonteCarloControl(env, 10000)\n",
    "value_table = mcoffpolicy.run()\n",
    "print(value_table)"
   ]
  },
  {
   "cell_type": "code",
   "execution_count": 6,
   "metadata": {},
   "outputs": [
    {
     "name": "stdout",
     "output_type": "stream",
     "text": [
      "{0: {1: 0.3488372093023256, 0: 0.32801511493649627}}\n"
     ]
    }
   ],
   "source": [
    "onpolicy_mc_control = lib.onPolicyMonteCarloControl(env, 10000)\n",
    "q_table = onpolicy_mc_control.run()\n",
    "print(q_table)"
   ]
  },
  {
   "cell_type": "code",
   "execution_count": 7,
   "metadata": {},
   "outputs": [
    {
     "name": "stdout",
     "output_type": "stream",
     "text": [
      "[[2.17574825e-018 6.13783350e-074]\n",
      " [4.40386006e-317 6.89917128e-310]\n",
      " [4.40453990e-317 6.89917125e-310]\n",
      " [4.40431460e-317 6.89917125e-310]\n",
      " [4.40376520e-317 4.40545293e-317]\n",
      " [4.40527111e-317 4.40401026e-317]\n",
      " [6.89917125e-310 4.40451223e-317]\n",
      " [4.40422765e-317 6.89917125e-310]\n",
      " [4.40633434e-317 4.40723947e-317]\n",
      " [6.89917126e-310 6.89917125e-310]\n",
      " [6.89917125e-310 6.89917125e-310]\n",
      " [4.40354386e-317 6.89916887e-310]]\n",
      "Episode 1: Total Reward: 0, Exploration Rate: 0.995\n",
      "Episode 2: Total Reward: 0, Exploration Rate: 0.990025\n",
      "Episode 3: Total Reward: 0, Exploration Rate: 0.985075\n",
      "Episode 4: Total Reward: 0, Exploration Rate: 0.98015\n",
      "Episode 5: Total Reward: 1, Exploration Rate: 0.975249\n",
      "Episode 6: Total Reward: 0, Exploration Rate: 0.970373\n",
      "Episode 7: Total Reward: 0, Exploration Rate: 0.965521\n",
      "Episode 8: Total Reward: 0, Exploration Rate: 0.960693\n",
      "Episode 9: Total Reward: 1, Exploration Rate: 0.95589\n",
      "Episode 10: Total Reward: 0, Exploration Rate: 0.95111\n"
     ]
    }
   ],
   "source": [
    "dyna_Q = lib.DynaQ(env, 10000)\n",
    "q_table = dyna_Q.run()\n",
    "print(q_table)"
   ]
  },
  {
   "cell_type": "code",
   "execution_count": 8,
   "metadata": {},
   "outputs": [
    {
     "name": "stdout",
     "output_type": "stream",
     "text": [
      "q_table = [[-9.99900000e+007  9.99700020e+011]\n",
      " [ 4.40386006e-317  6.89917128e-310]\n",
      " [ 4.40453990e-317  6.89917125e-310]\n",
      " [ 4.40431460e-317  6.89917125e-310]\n",
      " [ 4.40376520e-317  4.40545293e-317]\n",
      " [ 4.40527111e-317  4.40401026e-317]\n",
      " [ 6.89917125e-310  4.40451223e-317]\n",
      " [ 4.40422765e-317  6.89917125e-310]\n",
      " [ 4.40633434e-317  4.40723947e-317]\n",
      " [ 6.89917126e-310  6.89917125e-310]\n",
      " [ 6.89917125e-310  6.89917125e-310]\n",
      " [ 4.40354386e-317  6.89916887e-310]]\n",
      "State: 0, Action: 1, Reward: 0, Next State: 4, Next Action: 1\n",
      "Q(0, 1) updated to: -6.13722e-70\n",
      "Episode 1: Total Reward: 0, Exploration Rate: 0.995\n",
      "State: 0, Action: 0, Reward: 0, Next State: 2, Next Action: 0\n",
      "Q(0, 0) updated to: -2.17553e-14\n",
      "Episode 2: Total Reward: 0, Exploration Rate: 0.990025\n",
      "State: 0, Action: 0, Reward: 0, Next State: 2, Next Action: 1\n",
      "Q(0, 0) updated to: 2.17531e-10\n",
      "Episode 3: Total Reward: 0, Exploration Rate: 0.985075\n",
      "State: 0, Action: 0, Reward: 1, Next State: 3, Next Action: 1\n",
      "Q(0, 0) updated to: 10000\n",
      "Episode 4: Total Reward: 1, Exploration Rate: 0.98015\n",
      "State: 0, Action: 1, Reward: 0, Next State: 6, Next Action: 0\n",
      "Q(0, 1) updated to: 6.13661e-66\n",
      "Episode 5: Total Reward: 0, Exploration Rate: 0.975249\n",
      "State: 0, Action: 1, Reward: 0, Next State: 4, Next Action: 0\n",
      "Q(0, 1) updated to: -6.13599e-62\n",
      "Episode 6: Total Reward: 0, Exploration Rate: 0.970373\n",
      "State: 0, Action: 0, Reward: 0, Next State: 3, Next Action: 0\n",
      "Q(0, 0) updated to: -9.999e+07\n",
      "Episode 7: Total Reward: 0, Exploration Rate: 0.965521\n",
      "State: 0, Action: 1, Reward: 1, Next State: 6, Next Action: 0\n",
      "Q(0, 1) updated to: 10000\n",
      "Episode 8: Total Reward: 1, Exploration Rate: 0.960693\n",
      "State: 0, Action: 1, Reward: 1, Next State: 6, Next Action: 0\n",
      "Q(0, 1) updated to: -9.998e+07\n",
      "Episode 9: Total Reward: 1, Exploration Rate: 0.95589\n",
      "State: 0, Action: 1, Reward: 0, Next State: 4, Next Action: 0\n",
      "Q(0, 1) updated to: 9.997e+11\n",
      "Episode 10: Total Reward: 0, Exploration Rate: 0.95111\n"
     ]
    }
   ],
   "source": [
    "sarsa = lib.SARSA(env, 10000)\n",
    "q_table = sarsa.run()\n",
    "print(f'q_table = {q_table}')"
   ]
  },
  {
   "cell_type": "code",
   "execution_count": 9,
   "metadata": {},
   "outputs": [
    {
     "name": "stdout",
     "output_type": "stream",
     "text": [
      "[0, 0, 0, 0, 0, 0, 0, 0, 0, 0, 0, 0]\n",
      "[0.0, 0.0, 0.0, 0.0, 0.0, 0.0, 0.0, 0.0, 0.0, 0.0, 0.0, 0.0]\n"
     ]
    }
   ],
   "source": [
    "policy_iteration = lib.PolicyIteration(env)\n",
    "policy, V = policy_iteration.run()\n",
    "print(policy)\n",
    "print(V)"
   ]
  },
  {
   "cell_type": "code",
   "execution_count": 10,
   "metadata": {},
   "outputs": [
    {
     "name": "stdout",
     "output_type": "stream",
     "text": [
      "[0.0, 0.0, 0.0, 0.0, 0.0, 0.0, 0.0, 0.0, 0.0, 0.0, 0.0, 0.0]\n"
     ]
    }
   ],
   "source": [
    "value_iteration = lib.ValueIteration(env)\n",
    "value = value_iteration.run()\n",
    "print(value)"
   ]
  }
 ],
 "metadata": {
  "kernelspec": {
   "display_name": "DeepLearning",
   "language": "python",
   "name": "python3"
  },
  "language_info": {
   "codemirror_mode": {
    "name": "ipython",
    "version": 3
   },
   "file_extension": ".py",
   "mimetype": "text/x-python",
   "name": "python",
   "nbconvert_exporter": "python",
   "pygments_lexer": "ipython3",
   "version": "3.11.5"
  }
 },
 "nbformat": 4,
 "nbformat_minor": 2
}
