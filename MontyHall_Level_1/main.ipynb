{
 "cells": [
  {
   "cell_type": "code",
   "execution_count": 44,
   "metadata": {},
   "outputs": [],
   "source": [
    "import lib\n",
    "\n",
    "from montyhall import MontyHallEnv"
   ]
  },
  {
   "cell_type": "code",
   "execution_count": 45,
   "metadata": {},
   "outputs": [],
   "source": [
    "env = MontyHallEnv()"
   ]
  },
  {
   "cell_type": "markdown",
   "metadata": {},
   "source": [
    "# QLearning"
   ]
  },
  {
   "cell_type": "code",
   "execution_count": 46,
   "metadata": {},
   "outputs": [
    {
     "name": "stdout",
     "output_type": "stream",
     "text": [
      "[[9.98900550e+043 9.99200290e+035]\n",
      " [6.92663886e-310 6.92663886e-310]\n",
      " [6.92664213e-310 6.92663886e-310]\n",
      " [6.92663886e-310 6.92663886e-310]\n",
      " [6.92663886e-310 6.92663886e-310]\n",
      " [6.92663886e-310 6.92663886e-310]\n",
      " [6.92664330e-310 6.92664213e-310]\n",
      " [6.92663886e-310 6.92663886e-310]\n",
      " [6.92664225e-310 6.92663886e-310]\n",
      " [6.92664145e-310 6.92663886e-310]\n",
      " [6.92664225e-310 6.92663886e-310]\n",
      " [6.92664225e-310 6.92663886e-310]]\n",
      "Episode 1: Total Reward: 1, Exploration Rate: 0.995\n",
      "Episode 2: Total Reward: 0, Exploration Rate: 0.990025\n",
      "Episode 3: Total Reward: 1, Exploration Rate: 0.985075\n",
      "Episode 4: Total Reward: 0, Exploration Rate: 0.98015\n",
      "Episode 5: Total Reward: 0, Exploration Rate: 0.975249\n",
      "Episode 6: Total Reward: 0, Exploration Rate: 0.970373\n",
      "Episode 7: Total Reward: 1, Exploration Rate: 0.965521\n",
      "Episode 8: Total Reward: 0, Exploration Rate: 0.960693\n",
      "Episode 9: Total Reward: 0, Exploration Rate: 0.95589\n",
      "Episode 10: Total Reward: 0, Exploration Rate: 0.95111\n"
     ]
    }
   ],
   "source": [
    "q_learning = lib.QLearning(env, 10000)\n",
    "q_table = q_learning.run()\n",
    "print(q_table)"
   ]
  },
  {
   "cell_type": "code",
   "execution_count": 47,
   "metadata": {},
   "outputs": [
    {
     "name": "stdout",
     "output_type": "stream",
     "text": [
      "{0: 0.3354}\n"
     ]
    }
   ],
   "source": [
    "monte_carlo_es = lib.MonteCarloES(env, 10000)\n",
    "value_table = monte_carlo_es.run()\n",
    "print(value_table)"
   ]
  },
  {
   "cell_type": "code",
   "execution_count": 48,
   "metadata": {},
   "outputs": [
    {
     "name": "stdout",
     "output_type": "stream",
     "text": [
      "{0: {1: 0.33127735773975375, 0: 0.32951347004423004}}\n"
     ]
    }
   ],
   "source": [
    "mcoffpolicy = lib.OffPolicyMonteCarloControl(env, 10000)\n",
    "value_table = mcoffpolicy.run()\n",
    "print(value_table)"
   ]
  },
  {
   "cell_type": "code",
   "execution_count": 49,
   "metadata": {},
   "outputs": [
    {
     "name": "stdout",
     "output_type": "stream",
     "text": [
      "{0: {1: 0.3645621181262729, 0: 0.32632243138079714}}\n"
     ]
    }
   ],
   "source": [
    "onpolicy_mc_control = lib.onPolicyMonteCarloControl(env, 10000)\n",
    "q_table = onpolicy_mc_control.run()\n",
    "print(q_table)"
   ]
  },
  {
   "cell_type": "code",
   "execution_count": 50,
   "metadata": {},
   "outputs": [
    {
     "name": "stdout",
     "output_type": "stream",
     "text": [
      "[[1.00000000e+000 1.22171077e-150]\n",
      " [6.92663886e-310 6.92663886e-310]\n",
      " [6.92664213e-310 6.92663886e-310]\n",
      " [6.92663886e-310 6.92663886e-310]\n",
      " [6.92663886e-310 6.92663886e-310]\n",
      " [6.92663886e-310 6.92663886e-310]\n",
      " [6.92664330e-310 6.92664213e-310]\n",
      " [6.92663886e-310 6.92663886e-310]\n",
      " [6.92664225e-310 6.92663886e-310]\n",
      " [6.92664145e-310 6.92663886e-310]\n",
      " [6.92664225e-310 6.92663886e-310]\n",
      " [6.92664225e-310 6.92663886e-310]]\n",
      "Episode 1: Total Reward: 0, Exploration Rate: 0.995\n",
      "Episode 2: Total Reward: 1, Exploration Rate: 0.990025\n",
      "Episode 3: Total Reward: 0, Exploration Rate: 0.985075\n",
      "Episode 4: Total Reward: 1, Exploration Rate: 0.98015\n",
      "Episode 5: Total Reward: 0, Exploration Rate: 0.975249\n",
      "Episode 6: Total Reward: 0, Exploration Rate: 0.970373\n",
      "Episode 7: Total Reward: 0, Exploration Rate: 0.965521\n",
      "Episode 8: Total Reward: 0, Exploration Rate: 0.960693\n",
      "Episode 9: Total Reward: 1, Exploration Rate: 0.95589\n",
      "Episode 10: Total Reward: 0, Exploration Rate: 0.95111\n"
     ]
    }
   ],
   "source": [
    "dyna_Q = lib.DynaQ(env, 10000)\n",
    "q_table = dyna_Q.run()\n",
    "print(q_table)"
   ]
  },
  {
   "cell_type": "code",
   "execution_count": 51,
   "metadata": {},
   "outputs": [
    {
     "name": "stdout",
     "output_type": "stream",
     "text": [
      "[[-1.00014385e+012 -9.99700030e+015]\n",
      " [ 6.92663886e-310  6.92663886e-310]\n",
      " [ 6.92664213e-310  6.92663886e-310]\n",
      " [ 6.92663886e-310  6.92663886e-310]\n",
      " [ 6.92663886e-310  6.92663886e-310]\n",
      " [ 6.92663886e-310  6.92663886e-310]\n",
      " [ 6.92664330e-310  6.92664213e-310]\n",
      " [ 6.92663886e-310  6.92663886e-310]\n",
      " [ 6.92664225e-310  6.92663886e-310]\n",
      " [ 6.92664145e-310  6.92663886e-310]\n",
      " [ 6.92664225e-310  6.92663886e-310]\n",
      " [ 6.92664225e-310  6.92663886e-310]]\n",
      "State: 0, Action: 0, Reward: 1, Next State: 2, Next Action: 1\n",
      "Q(0, 0) updated to: 1\n",
      "Episode 1: Total Reward: 1, Exploration Rate: 0.995\n",
      "State: 0, Action: 0, Reward: 1, Next State: 3, Next Action: 0\n",
      "Q(0, 0) updated to: 1\n",
      "Episode 2: Total Reward: 1, Exploration Rate: 0.990025\n",
      "State: 0, Action: 0, Reward: 1, Next State: 3, Next Action: 1\n",
      "Q(0, 0) updated to: 1.00044\n",
      "Episode 3: Total Reward: 1, Exploration Rate: 0.985075\n",
      "State: 0, Action: 0, Reward: 0, Next State: 3, Next Action: 0\n",
      "Q(0, 0) updated to: -10003.4\n",
      "Episode 4: Total Reward: 0, Exploration Rate: 0.98015\n",
      "State: 0, Action: 0, Reward: 0, Next State: 3, Next Action: 1\n",
      "Q(0, 0) updated to: 1.00024e+08\n",
      "Episode 5: Total Reward: 0, Exploration Rate: 0.975249\n",
      "State: 0, Action: 1, Reward: 1, Next State: 4, Next Action: 0\n",
      "Q(0, 1) updated to: 10000\n",
      "Episode 6: Total Reward: 1, Exploration Rate: 0.970373\n",
      "State: 0, Action: 1, Reward: 0, Next State: 6, Next Action: 0\n",
      "Q(0, 1) updated to: -9.999e+07\n",
      "Episode 7: Total Reward: 0, Exploration Rate: 0.965521\n",
      "State: 0, Action: 1, Reward: 0, Next State: 4, Next Action: 1\n",
      "Q(0, 1) updated to: 9.998e+11\n",
      "Episode 8: Total Reward: 0, Exploration Rate: 0.960693\n",
      "State: 0, Action: 1, Reward: 0, Next State: 4, Next Action: 0\n",
      "Q(0, 1) updated to: -9.997e+15\n",
      "Episode 9: Total Reward: 0, Exploration Rate: 0.95589\n",
      "State: 0, Action: 0, Reward: 0, Next State: 2, Next Action: 0\n",
      "Q(0, 0) updated to: -1.00014e+12\n",
      "Episode 10: Total Reward: 0, Exploration Rate: 0.95111\n"
     ]
    }
   ],
   "source": [
    "sarsa = lib.SARSA(env, 10000)\n",
    "q_table = sarsa.run()\n",
    "print(q_table)"
   ]
  },
  {
   "cell_type": "code",
   "execution_count": 52,
   "metadata": {},
   "outputs": [
    {
     "name": "stdout",
     "output_type": "stream",
     "text": [
      "[0, 0, 0, 0, 0, 0, 0, 0, 0, 0, 0, 0]\n",
      "[0.0, 0.0, 0.0, 0.0, 0.0, 0.0, 0.0, 0.0, 0.0, 0.0, 0.0, 0.0]\n"
     ]
    }
   ],
   "source": [
    "policy_iteration = lib.PolicyIteration(env)\n",
    "policy, V = policy_iteration.run()\n",
    "print(policy)\n",
    "print(V)"
   ]
  },
  {
   "cell_type": "code",
   "execution_count": 53,
   "metadata": {},
   "outputs": [
    {
     "name": "stdout",
     "output_type": "stream",
     "text": [
      "[0.0, 0.0, 0.0, 0.0, 0.0, 0.0, 0.0, 0.0, 0.0, 0.0, 0.0, 0.0]\n"
     ]
    }
   ],
   "source": [
    "value_iteration = lib.ValueIteration(env)\n",
    "value = value_iteration.run()\n",
    "print(value)"
   ]
  }
 ],
 "metadata": {
  "kernelspec": {
   "display_name": "DeepLearning",
   "language": "python",
   "name": "python3"
  },
  "language_info": {
   "codemirror_mode": {
    "name": "ipython",
    "version": 3
   },
   "file_extension": ".py",
   "mimetype": "text/x-python",
   "name": "python",
   "nbconvert_exporter": "python",
   "pygments_lexer": "ipython3",
   "version": "3.11.5"
  }
 },
 "nbformat": 4,
 "nbformat_minor": 2
}
