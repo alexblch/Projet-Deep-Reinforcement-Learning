{
 "cells": [
  {
   "cell_type": "code",
   "execution_count": 1,
   "metadata": {},
   "outputs": [],
   "source": [
    "import lib\n",
    "\n",
    "from montyhall import MontyHallEnv"
   ]
  },
  {
   "cell_type": "code",
   "execution_count": 2,
   "metadata": {},
   "outputs": [],
   "source": [
    "env = MontyHallEnv()"
   ]
  },
  {
   "cell_type": "markdown",
   "metadata": {},
   "source": [
    "# QLearning"
   ]
  },
  {
   "cell_type": "code",
   "execution_count": 3,
   "metadata": {},
   "outputs": [
    {
     "name": "stdout",
     "output_type": "stream",
     "text": [
      "[[ 9.9970003e+11 -9.9990000e+07]\n",
      " [ 0.0000000e+00  0.0000000e+00]\n",
      " [ 0.0000000e+00  0.0000000e+00]\n",
      " [ 0.0000000e+00  0.0000000e+00]\n",
      " [ 0.0000000e+00  0.0000000e+00]\n",
      " [ 0.0000000e+00  0.0000000e+00]\n",
      " [ 0.0000000e+00  0.0000000e+00]\n",
      " [ 0.0000000e+00  0.0000000e+00]\n",
      " [ 0.0000000e+00  0.0000000e+00]\n",
      " [ 0.0000000e+00  0.0000000e+00]\n",
      " [ 0.0000000e+00  0.0000000e+00]\n",
      " [ 0.0000000e+00  0.0000000e+00]]\n",
      "Episode 1: Total Reward: 0, Exploration Rate: 0.995\n",
      "Episode 2: Total Reward: 0, Exploration Rate: 0.990025\n",
      "Episode 3: Total Reward: 0, Exploration Rate: 0.985075\n",
      "Episode 4: Total Reward: 0, Exploration Rate: 0.98015\n",
      "Episode 5: Total Reward: 0, Exploration Rate: 0.975249\n",
      "Episode 6: Total Reward: 1, Exploration Rate: 0.970373\n",
      "Episode 7: Total Reward: 0, Exploration Rate: 0.965521\n",
      "Episode 8: Total Reward: 1, Exploration Rate: 0.960693\n",
      "Episode 9: Total Reward: 1, Exploration Rate: 0.95589\n",
      "Episode 10: Total Reward: 1, Exploration Rate: 0.95111\n"
     ]
    }
   ],
   "source": [
    "q_learning = lib.QLearning(env, 10000)\n",
    "q_table = q_learning.run()\n",
    "print(q_table)"
   ]
  },
  {
   "cell_type": "code",
   "execution_count": 4,
   "metadata": {},
   "outputs": [
    {
     "name": "stdout",
     "output_type": "stream",
     "text": [
      "{0: 0.3338}\n"
     ]
    }
   ],
   "source": [
    "monte_carlo_es = lib.MonteCarloES(env, 10000)\n",
    "value_table = monte_carlo_es.run()\n",
    "print(value_table)"
   ]
  },
  {
   "cell_type": "code",
   "execution_count": 5,
   "metadata": {},
   "outputs": [
    {
     "name": "stdout",
     "output_type": "stream",
     "text": [
      "{0: {0: 0.33233052547132075, 1: 0.33964898284802597}}\n"
     ]
    }
   ],
   "source": [
    "mcoffpolicy = lib.OffPolicyMonteCarloControl(env, 10000)\n",
    "value_table = mcoffpolicy.run()\n",
    "print(value_table)"
   ]
  },
  {
   "cell_type": "code",
   "execution_count": 6,
   "metadata": {},
   "outputs": [
    {
     "name": "stdout",
     "output_type": "stream",
     "text": [
      "{0: {1: 0.39555555555555555, 0: 0.33340314136125654}}\n"
     ]
    }
   ],
   "source": [
    "onpolicy_mc_control = lib.onPolicyMonteCarloControl(env, 10000)\n",
    "q_table = onpolicy_mc_control.run()\n",
    "print(q_table)"
   ]
  },
  {
   "cell_type": "code",
   "execution_count": 7,
   "metadata": {},
   "outputs": [
    {
     "name": "stdout",
     "output_type": "stream",
     "text": [
      "[[1.00000000e+00 3.53660236e-55]\n",
      " [0.00000000e+00 0.00000000e+00]\n",
      " [0.00000000e+00 0.00000000e+00]\n",
      " [0.00000000e+00 0.00000000e+00]\n",
      " [0.00000000e+00 0.00000000e+00]\n",
      " [0.00000000e+00 0.00000000e+00]\n",
      " [0.00000000e+00 0.00000000e+00]\n",
      " [0.00000000e+00 0.00000000e+00]\n",
      " [0.00000000e+00 0.00000000e+00]\n",
      " [0.00000000e+00 0.00000000e+00]\n",
      " [0.00000000e+00 0.00000000e+00]\n",
      " [0.00000000e+00 0.00000000e+00]]\n",
      "Episode 1: Total Reward: 1, Exploration Rate: 0.995\n",
      "Episode 2: Total Reward: 0, Exploration Rate: 0.990025\n",
      "Episode 3: Total Reward: 0, Exploration Rate: 0.985075\n",
      "Episode 4: Total Reward: 0, Exploration Rate: 0.98015\n",
      "Episode 5: Total Reward: 0, Exploration Rate: 0.975249\n",
      "Episode 6: Total Reward: 1, Exploration Rate: 0.970373\n",
      "Episode 7: Total Reward: 1, Exploration Rate: 0.965521\n",
      "Episode 8: Total Reward: 0, Exploration Rate: 0.960693\n",
      "Episode 9: Total Reward: 0, Exploration Rate: 0.95589\n",
      "Episode 10: Total Reward: 1, Exploration Rate: 0.95111\n"
     ]
    }
   ],
   "source": [
    "dyna_Q = lib.DynaQ(env, 10000)\n",
    "q_table = dyna_Q.run()\n",
    "print(q_table)"
   ]
  },
  {
   "cell_type": "code",
   "execution_count": 8,
   "metadata": {},
   "outputs": [
    {
     "name": "stdout",
     "output_type": "stream",
     "text": [
      "q_table = [[-9.9970003e+11  1.0000000e+04]\n",
      " [ 0.0000000e+00  0.0000000e+00]\n",
      " [ 0.0000000e+00  0.0000000e+00]\n",
      " [ 0.0000000e+00  0.0000000e+00]\n",
      " [ 0.0000000e+00  0.0000000e+00]\n",
      " [ 0.0000000e+00  0.0000000e+00]\n",
      " [ 0.0000000e+00  0.0000000e+00]\n",
      " [ 0.0000000e+00  0.0000000e+00]\n",
      " [ 0.0000000e+00  0.0000000e+00]\n",
      " [ 0.0000000e+00  0.0000000e+00]\n",
      " [ 0.0000000e+00  0.0000000e+00]\n",
      " [ 0.0000000e+00  0.0000000e+00]]\n",
      "State: 0, Action: 1, Reward: 0, Next State: 6, Next Action: 1\n",
      "Q(0, 1) updated to: -3.53625e-51\n",
      "Episode 1: Total Reward: 0, Exploration Rate: 0.995\n",
      "State: 0, Action: 0, Reward: 1, Next State: 3, Next Action: 1\n",
      "Q(0, 0) updated to: 1\n",
      "Episode 2: Total Reward: 1, Exploration Rate: 0.990025\n",
      "State: 0, Action: 1, Reward: 0, Next State: 6, Next Action: 1\n",
      "Q(0, 1) updated to: 3.5359e-47\n",
      "Episode 3: Total Reward: 0, Exploration Rate: 0.985075\n",
      "State: 0, Action: 0, Reward: 0, Next State: 2, Next Action: 0\n",
      "Q(0, 0) updated to: -9999\n",
      "Episode 4: Total Reward: 0, Exploration Rate: 0.98015\n",
      "State: 0, Action: 1, Reward: 0, Next State: 4, Next Action: 0\n",
      "Q(0, 1) updated to: -3.53554e-43\n",
      "Episode 5: Total Reward: 0, Exploration Rate: 0.975249\n",
      "State: 0, Action: 1, Reward: 0, Next State: 6, Next Action: 1\n",
      "Q(0, 1) updated to: 3.53519e-39\n",
      "Episode 6: Total Reward: 0, Exploration Rate: 0.970373\n",
      "State: 0, Action: 0, Reward: 0, Next State: 3, Next Action: 0\n",
      "Q(0, 0) updated to: 9.998e+07\n",
      "Episode 7: Total Reward: 0, Exploration Rate: 0.965521\n",
      "State: 0, Action: 0, Reward: 0, Next State: 2, Next Action: 1\n",
      "Q(0, 0) updated to: -9.997e+11\n",
      "Episode 8: Total Reward: 0, Exploration Rate: 0.960693\n",
      "State: 0, Action: 1, Reward: 0, Next State: 4, Next Action: 1\n",
      "Q(0, 1) updated to: -3.53483e-35\n",
      "Episode 9: Total Reward: 0, Exploration Rate: 0.95589\n",
      "State: 0, Action: 1, Reward: 1, Next State: 6, Next Action: 0\n",
      "Q(0, 1) updated to: 10000\n",
      "Episode 10: Total Reward: 1, Exploration Rate: 0.95111\n"
     ]
    }
   ],
   "source": [
    "sarsa = lib.SARSA(env, 10000)\n",
    "q_table = sarsa.run()\n",
    "print(f'q_table = {q_table}')"
   ]
  },
  {
   "cell_type": "code",
   "execution_count": 9,
   "metadata": {},
   "outputs": [
    {
     "name": "stdout",
     "output_type": "stream",
     "text": [
      "[0, 0, 0, 0, 0, 0, 0, 0, 0, 0, 0, 0]\n",
      "State 0: 1.0\n",
      "State 1: 0.0\n",
      "State 2: 0.0\n",
      "State 3: 0.0\n",
      "State 4: 0.0\n",
      "State 5: 0.0\n",
      "State 6: 0.0\n",
      "State 7: 0.0\n",
      "State 8: 0.0\n",
      "State 9: 0.0\n",
      "State 10: 0.0\n",
      "State 11: 0.0\n"
     ]
    }
   ],
   "source": [
    "policy_iteration = lib.PolicyIteration(env)\n",
    "policy, V = policy_iteration.run()\n",
    "print(policy)\n",
    "for i in range(len(V)):\n",
    "    print(f'State {i}: {V[i]}')"
   ]
  },
  {
   "cell_type": "code",
   "execution_count": 10,
   "metadata": {},
   "outputs": [
    {
     "name": "stdout",
     "output_type": "stream",
     "text": [
      "[1.0, 0.0, 0.0, 0.0, 0.0, 0.0, 0.0, 0.0, 0.0, 0.0, 0.0, 0.0]\n"
     ]
    }
   ],
   "source": [
    "value_iteration = lib.ValueIteration(env)\n",
    "value = value_iteration.run()\n",
    "print(value)"
   ]
  }
 ],
 "metadata": {
  "kernelspec": {
   "display_name": "DeepLearning",
   "language": "python",
   "name": "python3"
  },
  "language_info": {
   "codemirror_mode": {
    "name": "ipython",
    "version": 3
   },
   "file_extension": ".py",
   "mimetype": "text/x-python",
   "name": "python",
   "nbconvert_exporter": "python",
   "pygments_lexer": "ipython3",
   "version": "3.11.5"
  }
 },
 "nbformat": 4,
 "nbformat_minor": 2
}
