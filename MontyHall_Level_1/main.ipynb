{
 "cells": [
  {
   "cell_type": "code",
   "execution_count": 1,
   "metadata": {},
   "outputs": [],
   "source": [
    "import lib\n",
    "\n",
    "from montyhall import MontyHallEnv"
   ]
  },
  {
   "cell_type": "code",
   "execution_count": 2,
   "metadata": {},
   "outputs": [],
   "source": [
    "env = MontyHallEnv()"
   ]
  },
  {
   "cell_type": "markdown",
   "metadata": {},
   "source": [
    "# QLearning"
   ]
  },
  {
   "cell_type": "code",
   "execution_count": 3,
   "metadata": {},
   "outputs": [
    {
     "name": "stdout",
     "output_type": "stream",
     "text": [
      "[[ 9.99300210e+027 -9.99800000e+007]\n",
      " [ 6.92274723e-310  6.92274723e-310]\n",
      " [ 6.92274723e-310  6.92274723e-310]\n",
      " [ 6.92274723e-310  6.92274723e-310]\n",
      " [ 6.92274723e-310  6.92274723e-310]\n",
      " [ 6.92274723e-310  6.92274723e-310]\n",
      " [ 6.92274723e-310  6.92274723e-310]\n",
      " [ 6.92274723e-310  6.92274723e-310]\n",
      " [ 6.92274723e-310  6.92274723e-310]\n",
      " [ 6.92274723e-310  6.92274723e-310]\n",
      " [ 6.92274723e-310  6.92274723e-310]\n",
      " [ 6.92274723e-310  6.92274723e-310]]Episode 1: Total Reward: \n",
      "0, Exploration Rate: 0.995\n",
      "Episode 2: Total Reward: 1, Exploration Rate: 0.990025\n",
      "Episode 3: Total Reward: 1, Exploration Rate: 0.985075\n",
      "Episode 4: Total Reward: 1, Exploration Rate: 0.98015\n",
      "Episode 5: Total Reward: 1, Exploration Rate: 0.975249\n",
      "Episode 6: Total Reward: 1, Exploration Rate: 0.970373\n",
      "Episode 7: Total Reward: 1, Exploration Rate: 0.965521\n",
      "Episode 8: Total Reward: 0, Exploration Rate: 0.960693\n",
      "Episode 9: Total Reward: 1, Exploration Rate: 0.95589\n",
      "Episode 10: Total Reward: 0, Exploration Rate: 0.95111\n"
     ]
    }
   ],
   "source": [
    "q_learning = lib.QLearning(env, 10000)\n",
    "q_table = q_learning.run()\n",
    "print(q_table)"
   ]
  },
  {
   "cell_type": "code",
   "execution_count": 4,
   "metadata": {},
   "outputs": [
    {
     "name": "stdout",
     "output_type": "stream",
     "text": [
      "{0: 0.333}\n"
     ]
    }
   ],
   "source": [
    "monte_carlo_es = lib.MonteCarloES(env, 10000)\n",
    "value_table = monte_carlo_es.run()\n",
    "print(value_table)"
   ]
  },
  {
   "cell_type": "code",
   "execution_count": 5,
   "metadata": {},
   "outputs": [
    {
     "name": "stdout",
     "output_type": "stream",
     "text": [
      "{0: {1: 0.32987841339445934, 0: 0.32610876981737946}}\n"
     ]
    }
   ],
   "source": [
    "mcoffpolicy = lib.OffPolicyMonteCarloControl(env, 10000)\n",
    "value_table = mcoffpolicy.run()\n",
    "print(value_table)"
   ]
  },
  {
   "cell_type": "code",
   "execution_count": 6,
   "metadata": {},
   "outputs": [
    {
     "name": "stdout",
     "output_type": "stream",
     "text": [
      "{0: {0: 0.3412172816146326, 1: 0.33059548254620125}}\n"
     ]
    }
   ],
   "source": [
    "onpolicy_mc_control = lib.onPolicyMonteCarloControl(env, 10000)\n",
    "q_table = onpolicy_mc_control.run()\n",
    "print(q_table)"
   ]
  },
  {
   "cell_type": "code",
   "execution_count": 7,
   "metadata": {},
   "outputs": [
    {
     "name": "stdout",
     "output_type": "stream",
     "text": [
      "[[1.37574536e-164 1.00000000e+000]\n",
      " [6.92274723e-310 6.92274723e-310]\n",
      " [6.92274723e-310 6.92274723e-310]\n",
      " [6.92274723e-310 6.92274723e-310]\n",
      " [6.92274723e-310 6.92274723e-310]\n",
      " [6.92274723e-310 6.92274723e-310]\n",
      " [6.92274723e-310 6.92274723e-310]\n",
      " [6.92274723e-310 6.92274723e-310]\n",
      " [6.92274723e-310 6.92274723e-310]\n",
      " [6.92274723e-310 6.92274723e-310]\n",
      " [6.92274723e-310 6.92274723e-310]\n",
      " [6.92274723e-310 6.92274723e-310]]\n",
      "Episode 1: Total Reward: 0, Exploration Rate: 0.995\n",
      "Episode 2: Total Reward: 1, Exploration Rate: 0.990025\n",
      "Episode 3: Total Reward: 0, Exploration Rate: 0.985075\n",
      "Episode 4: Total Reward: 1, Exploration Rate: 0.98015\n",
      "Episode 5: Total Reward: 0, Exploration Rate: 0.975249\n",
      "Episode 6: Total Reward: 0, Exploration Rate: 0.970373\n",
      "Episode 7: Total Reward: 0, Exploration Rate: 0.965521\n",
      "Episode 8: Total Reward: 0, Exploration Rate: 0.960693\n",
      "Episode 9: Total Reward: 1, Exploration Rate: 0.95589\n",
      "Episode 10: Total Reward: 1, Exploration Rate: 0.95111\n"
     ]
    }
   ],
   "source": [
    "dyna_Q = lib.DynaQ(env, 10000)\n",
    "q_table = dyna_Q.run()\n",
    "print(q_table)"
   ]
  },
  {
   "cell_type": "code",
   "execution_count": 8,
   "metadata": {},
   "outputs": [
    {
     "name": "stdout",
     "output_type": "stream",
     "text": [
      "q_table = [[4.55170333e-001 6.48378027e-001]\n",
      " [6.92274723e-310 6.92274723e-310]\n",
      " [1.91483087e-001 5.17025486e-001]\n",
      " [4.11869011e-001 2.69289947e-001]\n",
      " [2.40423474e-001 7.26655231e-001]\n",
      " [6.92274723e-310 6.92274723e-310]\n",
      " [3.18158875e-001 7.50016852e-001]\n",
      " [6.92274723e-310 6.92274723e-310]\n",
      " [6.92274723e-310 6.92274723e-310]\n",
      " [6.92274723e-310 6.92274723e-310]\n",
      " [6.92274723e-310 6.92274723e-310]\n",
      " [6.92274723e-310 6.92274723e-310]]\n"
     ]
    }
   ],
   "source": [
    "sarsa = lib.SARSA(env, 10000)\n",
    "q_table = sarsa.run()\n",
    "print(f'q_table = {q_table}')"
   ]
  },
  {
   "cell_type": "code",
   "execution_count": 9,
   "metadata": {},
   "outputs": [
    {
     "name": "stdout",
     "output_type": "stream",
     "text": [
      "[0, 0, 0, 0, 0, 0, 0, 0, 0, 0, 0, 0]\n",
      "State 0: 1.0\n",
      "State 1: 0.0\n",
      "State 2: 0.0\n",
      "State 3: 0.0\n",
      "State 4: 0.0\n",
      "State 5: 0.0\n",
      "State 6: 0.0\n",
      "State 7: 0.0\n",
      "State 8: 0.0\n",
      "State 9: 0.0\n",
      "State 10: 0.0\n",
      "State 11: 0.0\n"
     ]
    }
   ],
   "source": [
    "policy_iteration = lib.PolicyIteration(env)\n",
    "policy, V = policy_iteration.run()\n",
    "print(policy)\n",
    "for i in range(len(V)):\n",
    "    print(f'State {i}: {V[i]}')"
   ]
  },
  {
   "cell_type": "code",
   "execution_count": 10,
   "metadata": {},
   "outputs": [
    {
     "name": "stdout",
     "output_type": "stream",
     "text": [
      "[1.0, 0.0, 0.0, 0.0, 0.0, 0.0, 0.0, 0.0, 0.0, 0.0, 0.0, 0.0]\n"
     ]
    }
   ],
   "source": [
    "value_iteration = lib.ValueIteration(env)\n",
    "value = value_iteration.run()\n",
    "print(value)"
   ]
  }
 ],
 "metadata": {
  "kernelspec": {
   "display_name": "DeepLearning",
   "language": "python",
   "name": "python3"
  },
  "language_info": {
   "codemirror_mode": {
    "name": "ipython",
    "version": 3
   },
   "file_extension": ".py",
   "mimetype": "text/x-python",
   "name": "python",
   "nbconvert_exporter": "python",
   "pygments_lexer": "ipython3",
   "version": "3.11.5"
  }
 },
 "nbformat": 4,
 "nbformat_minor": 2
}
