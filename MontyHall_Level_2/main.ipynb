{
 "cells": [
  {
   "cell_type": "markdown",
   "metadata": {},
   "source": [
    "# Monty Hall \"paradox\" level 2 (description ci-dessous) <br>\n",
    "> Il s'agit du même environnement que précédemment, seulement maintenant 5 portes sont\n",
    "disponibles, et l'agent doit effectuer 4 actions successives avant l'ouverture d'une des deux portes\n",
    "restantes.\n"
   ]
  },
  {
   "cell_type": "code",
   "execution_count": 21,
   "metadata": {},
   "outputs": [],
   "source": [
    "import lib\n",
    "\n",
    "from montyhall import MontyHallEnvLevel2"
   ]
  },
  {
   "cell_type": "code",
   "execution_count": 22,
   "metadata": {},
   "outputs": [],
   "source": [
    "env = MontyHallEnvLevel2()"
   ]
  },
  {
   "cell_type": "markdown",
   "metadata": {},
   "source": [
    "# QLearning"
   ]
  },
  {
   "cell_type": "code",
   "execution_count": 23,
   "metadata": {},
   "outputs": [
    {
     "name": "stdout",
     "output_type": "stream",
     "text": [
      "Episode [[2.29466300e+027 3.09749492e+011]\n",
      " [6.90307909e-310 6.90307910e-310]\n",
      " [6.90307909e-310 6.90307917e-310]\n",
      " [6.90307909e-310 6.90307916e-310]\n",
      " [6.90307910e-310 6.90307910e-310]\n",
      " [6.90307910e-310 6.90307909e-310]\n",
      " [6.90307910e-310 4.28301951e-317]\n",
      " [6.90307910e-310 6.90307920e-310]\n",
      " [6.90307910e-310 1.12925620e-316]\n",
      " [6.90307910e-310 4.41552001e-317]\n",
      " [6.90307915e-310 6.90307916e-310]\n",
      " [6.90307908e-310 6.90307908e-310]\n",
      " [6.90307909e-310 6.90307910e-310]\n",
      " [6.90307910e-310 6.90307916e-310]\n",
      " [4.21426138e-317 6.90307909e-310]\n",
      " [1.11075680e-316 6.90307910e-310]\n",
      " [6.90307910e-310 6.90307906e-310]\n",
      " [6.90307906e-310 6.90307910e-310]\n",
      " [4.29019730e-317 6.90307910e-310]\n",
      " [6.90307906e-310 6.90307910e-310]\n",
      " [4.28978623e-317 6.90307909e-310]\n",
      " [6.90307910e-310 6.90307906e-310]\n",
      " [6.90307909e-310 4.27193663e-317]\n",
      " [4.03563887e-317 4.15355060e-317]\n",
      " [4.41269791e-317 6.90307908e-310]]\n",
      "1: Total Reward: 1, Exploration Rate: 0.995\n",
      "Episode 2: Total Reward: 1, Exploration Rate: 0.990025\n",
      "Episode 3: Total Reward: 1, Exploration Rate: 0.985075\n",
      "Episode 4: Total Reward: 1, Exploration Rate: 0.98015\n",
      "Episode 5: Total Reward: 0, Exploration Rate: 0.975249\n",
      "Episode 6: Total Reward: 1, Exploration Rate: 0.970373\n",
      "Episode 7: Total Reward: 1, Exploration Rate: 0.965521\n",
      "Episode 8: Total Reward: 0, Exploration Rate: 0.960693\n",
      "Episode 9: Total Reward: 1, Exploration Rate: 0.95589\n",
      "Episode 10: Total Reward: 0, Exploration Rate: 0.95111\n"
     ]
    }
   ],
   "source": [
    "q_learning = lib.QLearning(env, 10000)\n",
    "q_table = q_learning.run()\n",
    "print(q_table)"
   ]
  },
  {
   "cell_type": "code",
   "execution_count": 24,
   "metadata": {},
   "outputs": [
    {
     "name": "stdout",
     "output_type": "stream",
     "text": [
      "{0: 0.1983}\n"
     ]
    }
   ],
   "source": [
    "monte_carlo_es = lib.MonteCarloES(env, 10000)\n",
    "value_table = monte_carlo_es.run()\n",
    "print(value_table)"
   ]
  },
  {
   "cell_type": "code",
   "execution_count": 25,
   "metadata": {},
   "outputs": [
    {
     "name": "stdout",
     "output_type": "stream",
     "text": [
      "{0: {1: 0.2038306451612897, 0: 0.196825396825397}}\n"
     ]
    }
   ],
   "source": [
    "mcoffpolicy = lib.OffPolicyMonteCarloControl(env, 10000)\n",
    "value_table = mcoffpolicy.run()\n",
    "print(value_table)"
   ]
  },
  {
   "cell_type": "code",
   "execution_count": 26,
   "metadata": {},
   "outputs": [
    {
     "name": "stdout",
     "output_type": "stream",
     "text": [
      "{0: {1: 0.1925343811394892, 0: 0.19313033400063218}}\n"
     ]
    }
   ],
   "source": [
    "onpolicy_mc_control = lib.onPolicyMonteCarloControl(env, 10000)\n",
    "q_table = onpolicy_mc_control.run()\n",
    "print(q_table)"
   ]
  },
  {
   "cell_type": "code",
   "execution_count": 27,
   "metadata": {},
   "outputs": [
    {
     "name": "stdout",
     "output_type": "stream",
     "text": [
      "[[5.34120897e-035 9.90000000e-001]\n",
      " [6.90307909e-310 6.90307910e-310]\n",
      " [6.90307909e-310 6.90307917e-310]\n",
      " [6.90307909e-310 6.90307916e-310]\n",
      " [6.90307910e-310 6.90307910e-310]\n",
      " [6.90307910e-310 6.90307909e-310]\n",
      " [6.90307910e-310 4.28301951e-317]\n",
      " [6.90307910e-310 6.90307920e-310]\n",
      " [6.90307910e-310 1.12925620e-316]\n",
      " [6.90307910e-310 4.41552001e-317]\n",
      " [6.90307915e-310 6.90307916e-310]\n",
      " [6.90307908e-310 6.90307908e-310]\n",
      " [6.90307909e-310 6.90307910e-310]\n",
      " [6.90307910e-310 6.90307916e-310]\n",
      " [4.21426138e-317 6.90307909e-310]\n",
      " [1.11075680e-316 6.90307910e-310]\n",
      " [6.90307910e-310 6.90307906e-310]\n",
      " [6.90307906e-310 6.90307910e-310]\n",
      " [4.29019730e-317 6.90307910e-310]\n",
      " [6.90307906e-310 6.90307910e-310]\n",
      " [4.28978623e-317 6.90307909e-310]\n",
      " [6.90307910e-310 6.90307906e-310]\n",
      " [6.90307909e-310 4.27193663e-317]\n",
      " [4.03563887e-317 4.15355060e-317]\n",
      " [4.41269791e-317 6.90307908e-310]]\n",
      "Episode 1: Total Reward: 0, Exploration Rate: 0.995\n",
      "Episode 2: Total Reward: 0, Exploration Rate: 0.990025\n",
      "Episode 3: Total Reward: 1, Exploration Rate: 0.985075\n",
      "Episode 4: Total Reward: 0, Exploration Rate: 0.98015\n",
      "Episode 5: Total Reward: 0, Exploration Rate: 0.975249\n",
      "Episode 6: Total Reward: 1, Exploration Rate: 0.970373\n",
      "Episode 7: Total Reward: 0, Exploration Rate: 0.965521\n",
      "Episode 8: Total Reward: 0, Exploration Rate: 0.960693\n",
      "Episode 9: Total Reward: 0, Exploration Rate: 0.95589\n",
      "Episode 10: Total Reward: 0, Exploration Rate: 0.95111\n"
     ]
    }
   ],
   "source": [
    "dyna_Q = lib.DynaQ(env, 10000)\n",
    "q_table = dyna_Q.run()\n",
    "print(q_table)"
   ]
  },
  {
   "cell_type": "code",
   "execution_count": 28,
   "metadata": {},
   "outputs": [
    {
     "name": "stdout",
     "output_type": "stream",
     "text": [
      "q_table = [[            nan 7.38022158e-001]\n",
      " [6.90307909e-310 6.90307910e-310]\n",
      " [6.90307909e-310 6.90307917e-310]\n",
      " [6.90307909e-310 6.90307916e-310]\n",
      " [6.90307910e-310 6.90307910e-310]\n",
      " [6.90307910e-310 6.90307909e-310]\n",
      " [6.90307910e-310 4.28301951e-317]\n",
      " [6.90307910e-310 6.90307920e-310]\n",
      " [6.90307910e-310 1.12925620e-316]\n",
      " [6.90307910e-310 4.41552001e-317]\n",
      " [6.90307915e-310 6.90307916e-310]\n",
      " [6.90307908e-310 6.90307908e-310]\n",
      " [6.90307909e-310 6.90307910e-310]\n",
      " [6.90307910e-310 6.90307916e-310]\n",
      " [4.21426138e-317 6.90307909e-310]\n",
      " [1.11075680e-316 6.90307910e-310]\n",
      " [6.90307910e-310 6.90307906e-310]\n",
      " [6.90307906e-310 6.90307910e-310]\n",
      " [4.29019730e-317 6.90307910e-310]\n",
      " [6.90307906e-310 6.90307910e-310]\n",
      " [4.28978623e-317 6.90307909e-310]\n",
      " [6.90307910e-310 6.90307906e-310]\n",
      " [6.90307909e-310 4.27193663e-317]\n",
      " [4.03563887e-317 4.15355060e-317]\n",
      " [4.41269791e-317 6.90307908e-310]]\n"
     ]
    }
   ],
   "source": [
    "sarsa = lib.SARSA(env, 10000)\n",
    "q_table = sarsa.run()\n",
    "print(f'q_table = {q_table}')"
   ]
  },
  {
   "cell_type": "code",
   "execution_count": 29,
   "metadata": {},
   "outputs": [
    {
     "name": "stdout",
     "output_type": "stream",
     "text": [
      "[0, 0, 0, 0, 0, 0, 0, 0, 0, 0, 0, 0, 0, 0, 0, 0, 0, 0, 0, 0, 0, 0, 0, 0, 0]\n",
      "[0.0, 0.0, 0.0, 0.0, 0.0, 0.0, 0.0, 0.0, 0.0, 0.0, 0.0, 0.0, 0.0, 0.0, 0.0, 0.0, 0.0, 0.0, 0.0, 0.0, 0.0, 0.0, 0.0, 0.0, 0.0]\n"
     ]
    }
   ],
   "source": [
    "policy_iteration = lib.PolicyIteration(env)\n",
    "policy, V = policy_iteration.run()\n",
    "print(policy)\n",
    "print(V)"
   ]
  },
  {
   "cell_type": "code",
   "execution_count": 30,
   "metadata": {},
   "outputs": [
    {
     "name": "stdout",
     "output_type": "stream",
     "text": [
      "State number 0 = 0.0\n",
      "State number 1 = 0.0\n",
      "State number 2 = 0.0\n",
      "State number 3 = 0.0\n",
      "State number 4 = 0.0\n",
      "State number 5 = 0.0\n",
      "State number 6 = 0.0\n",
      "State number 7 = 0.0\n",
      "State number 8 = 0.0\n",
      "State number 9 = 0.0\n",
      "State number 10 = 0.0\n",
      "State number 11 = 0.0\n",
      "State number 12 = 0.0\n",
      "State number 13 = 0.0\n",
      "State number 14 = 0.0\n",
      "State number 15 = 0.0\n",
      "State number 16 = 0.0\n",
      "State number 17 = 0.0\n",
      "State number 18 = 0.0\n",
      "State number 19 = 0.0\n",
      "State number 20 = 0.0\n",
      "State number 21 = 0.0\n",
      "State number 22 = 0.0\n",
      "State number 23 = 0.0\n",
      "State number 24 = 0.0\n"
     ]
    }
   ],
   "source": [
    "value_iteration = lib.ValueIteration(env)\n",
    "value = value_iteration.run()\n",
    "for i in range(len(value)):\n",
    "    print(f'State number {i} = {value[i]}')"
   ]
  }
 ],
 "metadata": {
  "kernelspec": {
   "display_name": "DeepLearning",
   "language": "python",
   "name": "python3"
  },
  "language_info": {
   "codemirror_mode": {
    "name": "ipython",
    "version": 3
   },
   "file_extension": ".py",
   "mimetype": "text/x-python",
   "name": "python",
   "nbconvert_exporter": "python",
   "pygments_lexer": "ipython3",
   "version": "3.11.7"
  }
 },
 "nbformat": 4,
 "nbformat_minor": 2
}
